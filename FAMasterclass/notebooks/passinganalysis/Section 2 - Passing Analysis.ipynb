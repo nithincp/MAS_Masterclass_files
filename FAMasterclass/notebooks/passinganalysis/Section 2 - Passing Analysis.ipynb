{
 "cells": [
  {
   "cell_type": "markdown",
   "metadata": {
    "heading_collapsed": true
   },
   "source": [
    "# Import Required Libraries"
   ]
  },
  {
   "cell_type": "code",
   "execution_count": null,
   "metadata": {
    "code_folding": [],
    "hidden": true
   },
   "outputs": [],
   "source": [
    "import sys\n",
    "\n",
    "# Data Manipulation libraries:\n",
    "import numpy as np\n",
    "import pandas as pd\n",
    "from copy import deepcopy\n",
    "\n",
    "# Plotting libraries\n",
    "import mplsoccer\n",
    "import seaborn as sns\n",
    "import matplotlib.pyplot as plt\n",
    "from matplotlib.backends.backend_pdf import PdfPages"
   ]
  },
  {
   "cell_type": "markdown",
   "metadata": {
    "hidden": true
   },
   "source": [
    "[mplsoccer docs](https://mplsoccer.readthedocs.io/en/latest/)"
   ]
  },
  {
   "cell_type": "markdown",
   "metadata": {
    "heading_collapsed": true
   },
   "source": [
    "# Load the Data"
   ]
  },
  {
   "cell_type": "code",
   "execution_count": null,
   "metadata": {
    "hidden": true
   },
   "outputs": [],
   "source": [
    "eventsDataLaLiga2019 = pd.read_csv(\"../data/matchwise_events_data_updated.csv\",\n",
    "                                   low_memory=False)"
   ]
  },
  {
   "cell_type": "code",
   "execution_count": null,
   "metadata": {
    "hidden": true
   },
   "outputs": [],
   "source": [
    "seasonMetaDataLaLiga2019 = pd.read_csv(\"../data/season_matchwise_data.csv\",\n",
    "                                       low_memory=False)"
   ]
  },
  {
   "cell_type": "code",
   "execution_count": null,
   "metadata": {
    "hidden": true
   },
   "outputs": [],
   "source": [
    "pd.set_option(\"display.max_rows\", 150)\n",
    "pd.set_option(\"display.max_columns\", 50)"
   ]
  },
  {
   "cell_type": "code",
   "execution_count": null,
   "metadata": {
    "hidden": true
   },
   "outputs": [],
   "source": [
    "eventsDataLaLiga2019.columns"
   ]
  },
  {
   "cell_type": "markdown",
   "metadata": {
    "heading_collapsed": true
   },
   "source": [
    "# Data Cleaning and Exploratory Data Analysis (EDA)"
   ]
  },
  {
   "cell_type": "markdown",
   "metadata": {
    "hidden": true
   },
   "source": [
    "EDA, mainly, does three things:\n",
    "\n",
    "1. It helps clean up a dataset.\n",
    "1. It helps identify metrics that can be added by calculations.\n",
    "2. It gives you a better understanding of the variables and the relationships between them."
   ]
  },
  {
   "cell_type": "markdown",
   "metadata": {
    "heading_collapsed": true,
    "hidden": true
   },
   "source": [
    "## Data Prep - Separate out the pass columns"
   ]
  },
  {
   "cell_type": "code",
   "execution_count": null,
   "metadata": {
    "hidden": true
   },
   "outputs": [],
   "source": [
    "eventPassdf = deepcopy(eventsDataLaLiga2019[eventsDataLaLiga2019[\"type.id\"] == 30])"
   ]
  },
  {
   "cell_type": "code",
   "execution_count": null,
   "metadata": {
    "hidden": true
   },
   "outputs": [],
   "source": [
    "eventPassdf.columns[eventPassdf.columns.str.startswith(\"pass\")]"
   ]
  },
  {
   "cell_type": "code",
   "execution_count": null,
   "metadata": {
    "hidden": true
   },
   "outputs": [],
   "source": [
    "eventPassdf[\"under_pressure\"].unique()"
   ]
  },
  {
   "cell_type": "code",
   "execution_count": null,
   "metadata": {
    "hidden": true
   },
   "outputs": [],
   "source": [
    "passAdditionalCols = ['match_id', 'id',\n",
    "                      'timestamp', 'minute', 'second',\n",
    "                      'type.id', 'type.name',\n",
    "                      'possession_team.id', 'possession_team.name',\n",
    "                      'play_pattern.id', 'play_pattern.name',\n",
    "                      'team.id', 'team.name', 'location',\n",
    "                      'player.id', 'player.name',\n",
    "                      'position.id', 'position.name',\n",
    "                      'under_pressure',\n",
    "                      'started', 'minsPlayed']"
   ]
  },
  {
   "cell_type": "code",
   "execution_count": null,
   "metadata": {
    "hidden": true,
    "scrolled": true
   },
   "outputs": [],
   "source": [
    "pass_cols = eventPassdf.columns[eventPassdf.columns.str.startswith(\"pass\")].tolist()\n",
    "pass_cols = passAdditionalCols + pass_cols\n",
    "pass_cols"
   ]
  },
  {
   "cell_type": "code",
   "execution_count": null,
   "metadata": {
    "hidden": true
   },
   "outputs": [],
   "source": [
    "eventPassdf = eventPassdf[pass_cols]"
   ]
  },
  {
   "cell_type": "code",
   "execution_count": null,
   "metadata": {
    "hidden": true
   },
   "outputs": [],
   "source": [
    "eventPassdf.shape"
   ]
  },
  {
   "cell_type": "code",
   "execution_count": null,
   "metadata": {
    "hidden": true,
    "scrolled": true
   },
   "outputs": [],
   "source": [
    "eventPassdf.nunique(axis=0)"
   ]
  },
  {
   "cell_type": "markdown",
   "metadata": {
    "hidden": true
   },
   "source": [
    "## Separate Categorical and Numerical Columns"
   ]
  },
  {
   "cell_type": "code",
   "execution_count": null,
   "metadata": {
    "hidden": true
   },
   "outputs": [],
   "source": [
    "eventPassdf.select_dtypes(include=\"category\").columns"
   ]
  },
  {
   "cell_type": "code",
   "execution_count": null,
   "metadata": {
    "hidden": true,
    "scrolled": true
   },
   "outputs": [],
   "source": [
    "eventPassdf.select_dtypes(include=\"object\").columns"
   ]
  },
  {
   "cell_type": "code",
   "execution_count": null,
   "metadata": {
    "hidden": true
   },
   "outputs": [],
   "source": [
    "catPassCols = eventPassdf.select_dtypes(include=\"object\").columns\n",
    "catPassCols"
   ]
  },
  {
   "cell_type": "code",
   "execution_count": null,
   "metadata": {
    "hidden": true
   },
   "outputs": [],
   "source": [
    "unwantedCols = [\"player.name\", \"pass.recipient.name\",\n",
    "                \"pass.end_location\", \"location\",\n",
    "                \"pass.assisted_shot_id\", \"id\", \"timestamp\",\n",
    "                \"position.name\", \"possession_team.name\",\n",
    "                \"team.name\", \"type.name\"]\n",
    "catPassCols.symmetric_difference(unwantedCols)"
   ]
  },
  {
   "cell_type": "code",
   "execution_count": null,
   "metadata": {
    "hidden": true
   },
   "outputs": [],
   "source": [
    "catPassCols = catPassCols.symmetric_difference(unwantedCols)"
   ]
  },
  {
   "cell_type": "code",
   "execution_count": null,
   "metadata": {
    "hidden": true
   },
   "outputs": [],
   "source": [
    "catPassCols.__len__()"
   ]
  },
  {
   "cell_type": "code",
   "execution_count": null,
   "metadata": {
    "hidden": true
   },
   "outputs": [],
   "source": [
    "eventPassdf[\"pass.height.name\"].value_counts()"
   ]
  },
  {
   "cell_type": "code",
   "execution_count": null,
   "metadata": {
    "hidden": true,
    "scrolled": false
   },
   "outputs": [],
   "source": [
    "%timeit eventPassdf[\"pass.height.name\"].value_counts()"
   ]
  },
  {
   "cell_type": "code",
   "execution_count": null,
   "metadata": {
    "hidden": true
   },
   "outputs": [],
   "source": [
    "eventPassdf[\"pass.height.name\"] = eventPassdf[\"pass.height.name\"].astype(\"category\")"
   ]
  },
  {
   "cell_type": "code",
   "execution_count": null,
   "metadata": {
    "hidden": true
   },
   "outputs": [],
   "source": [
    "%timeit eventPassdf[\"pass.height.name\"].value_counts()"
   ]
  },
  {
   "cell_type": "code",
   "execution_count": null,
   "metadata": {
    "hidden": true
   },
   "outputs": [],
   "source": [
    "eventPassdf[catPassCols] = eventPassdf[catPassCols].astype(\"category\")"
   ]
  },
  {
   "cell_type": "code",
   "execution_count": null,
   "metadata": {
    "hidden": true,
    "scrolled": true
   },
   "outputs": [],
   "source": [
    "eventPassdf.select_dtypes(exclude=[\"object\", \"category\"]).columns"
   ]
  },
  {
   "cell_type": "code",
   "execution_count": null,
   "metadata": {
    "hidden": true
   },
   "outputs": [],
   "source": [
    "numPassCols = ['pass.length', 'pass.angle', 'minsPlayed']"
   ]
  },
  {
   "cell_type": "markdown",
   "metadata": {
    "heading_collapsed": true,
    "hidden": true
   },
   "source": [
    "## EDA on Pass Columns"
   ]
  },
  {
   "cell_type": "markdown",
   "metadata": {
    "heading_collapsed": true,
    "hidden": true
   },
   "source": [
    "### Numerical EDA"
   ]
  },
  {
   "cell_type": "code",
   "execution_count": null,
   "metadata": {
    "hidden": true,
    "scrolled": false
   },
   "outputs": [],
   "source": [
    "eventPassdf.info()"
   ]
  },
  {
   "cell_type": "code",
   "execution_count": null,
   "metadata": {
    "hidden": true,
    "scrolled": false
   },
   "outputs": [],
   "source": [
    "eventPassdf[numPassCols].describe().T.round(1)"
   ]
  },
  {
   "cell_type": "code",
   "execution_count": null,
   "metadata": {
    "hidden": true,
    "scrolled": true
   },
   "outputs": [],
   "source": [
    "eventPassdf.isnull().sum()"
   ]
  },
  {
   "cell_type": "code",
   "execution_count": null,
   "metadata": {
    "hidden": true,
    "scrolled": false
   },
   "outputs": [],
   "source": [
    "for col in eventPassdf[catPassCols]:\n",
    "    print(col, \"\\n\", eventPassdf[col].unique(), \"\\n\")"
   ]
  },
  {
   "cell_type": "code",
   "execution_count": null,
   "metadata": {
    "hidden": true
   },
   "outputs": [],
   "source": [
    "eventPassdf[[\"pass.outcome.id\", \"pass.outcome.name\"]].drop_duplicates()"
   ]
  },
  {
   "cell_type": "code",
   "execution_count": null,
   "metadata": {
    "hidden": true
   },
   "outputs": [],
   "source": [
    "eventPassdf[\"pass.outcome.id\"] = np.where(eventPassdf[\"pass.outcome.id\"].isnull(), 1,\n",
    "                                          eventPassdf[\"pass.outcome.id\"])\n",
    "eventPassdf[\"pass.outcome.name\"] = np.where(eventPassdf[\"pass.outcome.name\"].isnull(), \"Complete\",\n",
    "                                            eventPassdf[\"pass.outcome.name\"])"
   ]
  },
  {
   "cell_type": "code",
   "execution_count": null,
   "metadata": {
    "hidden": true
   },
   "outputs": [],
   "source": [
    "eventPassdf[[\"pass.outcome.id\", \"pass.outcome.name\"]].drop_duplicates()"
   ]
  },
  {
   "cell_type": "code",
   "execution_count": null,
   "metadata": {
    "hidden": true
   },
   "outputs": [],
   "source": [
    "booleanCols = [\"under_pressure\", \"pass.shot_assist\", \"pass.aerial_won\",\n",
    "               \"pass.deflected\", \"pass.switch\", \"pass.cross\", \"pass.through_ball\",\n",
    "               \"pass.goal_assist\", \"pass.no_touch\", \"pass.outswinging\",\n",
    "               \"pass.cut_back\", \"pass.inswinging\", \"pass.straight\", \"pass.miscommunication\"]"
   ]
  },
  {
   "cell_type": "code",
   "execution_count": null,
   "metadata": {
    "hidden": true
   },
   "outputs": [],
   "source": [
    "eventPassdf[booleanCols]"
   ]
  },
  {
   "cell_type": "code",
   "execution_count": null,
   "metadata": {
    "hidden": true
   },
   "outputs": [],
   "source": [
    "eventPassdf[booleanCols].fillna(False)"
   ]
  },
  {
   "cell_type": "code",
   "execution_count": null,
   "metadata": {
    "hidden": true,
    "scrolled": true
   },
   "outputs": [],
   "source": [
    "eventPassdf[booleanCols] = eventPassdf[booleanCols].fillna(False)"
   ]
  },
  {
   "cell_type": "code",
   "execution_count": null,
   "metadata": {
    "hidden": true
   },
   "outputs": [],
   "source": [
    "eventPassdf[\"under_pressure\"] = eventPassdf[\"under_pressure\"].cat.add_categories(False)"
   ]
  },
  {
   "cell_type": "code",
   "execution_count": null,
   "metadata": {
    "hidden": true
   },
   "outputs": [],
   "source": [
    "eventPassdf[\"under_pressure\"].unique()"
   ]
  },
  {
   "cell_type": "code",
   "execution_count": null,
   "metadata": {
    "hidden": true
   },
   "outputs": [],
   "source": [
    "eventPassdf[\"under_pressure\"] = eventPassdf[\"under_pressure\"].fillna(False)"
   ]
  },
  {
   "cell_type": "code",
   "execution_count": null,
   "metadata": {
    "hidden": true
   },
   "outputs": [],
   "source": [
    "for col in booleanCols:\n",
    "    try:\n",
    "        eventPassdf[col] = eventPassdf[col].cat.add_categories(False)\n",
    "    except ValueError:\n",
    "        print(sys.exc_info())\n",
    "    eventPassdf[col] = eventPassdf[col].fillna(False)    "
   ]
  },
  {
   "cell_type": "code",
   "execution_count": null,
   "metadata": {
    "hidden": true
   },
   "outputs": [],
   "source": [
    "eventPassdf[booleanCols]"
   ]
  },
  {
   "cell_type": "code",
   "execution_count": null,
   "metadata": {
    "hidden": true,
    "scrolled": false
   },
   "outputs": [],
   "source": [
    "for col in catPassCols:\n",
    "    print(col, \"\\n\", round(eventPassdf[col].value_counts(normalize=True)*100, 3), \"\\n\")"
   ]
  },
  {
   "cell_type": "markdown",
   "metadata": {
    "heading_collapsed": true,
    "hidden": true
   },
   "source": [
    "### Visual EDA"
   ]
  },
  {
   "cell_type": "code",
   "execution_count": null,
   "metadata": {
    "hidden": true
   },
   "outputs": [],
   "source": [
    "eventPassdf[numPassCols].hist(bins=10, figsize=(16, 8))"
   ]
  },
  {
   "cell_type": "code",
   "execution_count": null,
   "metadata": {
    "hidden": true,
    "scrolled": false
   },
   "outputs": [],
   "source": [
    "from IPython.display import Image\n",
    "Image(\"../pics/Pass Angle Explained.png\")"
   ]
  },
  {
   "cell_type": "code",
   "execution_count": null,
   "metadata": {
    "hidden": true,
    "scrolled": true
   },
   "outputs": [],
   "source": [
    "eventPassdf[catPassCols]"
   ]
  },
  {
   "cell_type": "code",
   "execution_count": null,
   "metadata": {
    "hidden": true
   },
   "outputs": [],
   "source": [
    "eventPassdf[\"play_pattern.name\"].value_counts().reset_index()"
   ]
  },
  {
   "cell_type": "code",
   "execution_count": null,
   "metadata": {
    "hidden": true
   },
   "outputs": [],
   "source": [
    "catPassCols"
   ]
  },
  {
   "cell_type": "code",
   "execution_count": null,
   "metadata": {
    "hidden": true,
    "scrolled": true
   },
   "outputs": [],
   "source": [
    "catPassCols.__len__()"
   ]
  },
  {
   "cell_type": "code",
   "execution_count": null,
   "metadata": {
    "hidden": true,
    "scrolled": false
   },
   "outputs": [],
   "source": [
    "i = j = 1\n",
    "# Create an empty subplot:\n",
    "fig = make_subplots(rows=5, cols=5,\n",
    "                    shared_xaxes=False,\n",
    "                    vertical_spacing=0.1,\n",
    "                    subplot_titles=catPassCols)\n",
    "# Add bar plot for goals conceded in all subplots:\n",
    "for col in catPassCols:\n",
    "    plot_df = eventPassdf[col].value_counts().reset_index()\n",
    "    fig.add_trace(go.Bar(x=plot_df[\"index\"],\n",
    "                         y=plot_df[col],\n",
    "                         text=plot_df[col],\n",
    "                         name=col),\n",
    "                  row=i, col=j)\n",
    "    j += 1\n",
    "    if j > 5:\n",
    "        j = 1\n",
    "        i += 1\n",
    "fig.update_traces(textposition='inside', textfont_size=10)\n",
    "fig.update_layout(height=1600)\n",
    "\n",
    "fig.show()"
   ]
  },
  {
   "cell_type": "markdown",
   "metadata": {
    "heading_collapsed": true,
    "hidden": true
   },
   "source": [
    "### Top Passing Teams"
   ]
  },
  {
   "cell_type": "code",
   "execution_count": null,
   "metadata": {
    "hidden": true
   },
   "outputs": [],
   "source": [
    "teamWisedf = eventPassdf.groupby(\"team.id\").agg({\"team.name\": \"first\", \"match_id\": \"nunique\", \"type.id\": \"count\"})"
   ]
  },
  {
   "cell_type": "code",
   "execution_count": null,
   "metadata": {
    "hidden": true
   },
   "outputs": [],
   "source": [
    "teamWisedf.columns = [\"teamName\", \"nMatches\", \"nPasses\"]"
   ]
  },
  {
   "cell_type": "code",
   "execution_count": null,
   "metadata": {
    "hidden": true
   },
   "outputs": [],
   "source": [
    "teamWisedf"
   ]
  },
  {
   "cell_type": "code",
   "execution_count": null,
   "metadata": {
    "hidden": true
   },
   "outputs": [],
   "source": [
    "teamWisedf[\"passesPerMatch\"] = teamWisedf[\"nPasses\"].divide(teamWisedf[\"nMatches\"])"
   ]
  },
  {
   "cell_type": "code",
   "execution_count": null,
   "metadata": {
    "hidden": true,
    "scrolled": true
   },
   "outputs": [],
   "source": [
    "teamWisedf"
   ]
  },
  {
   "cell_type": "code",
   "execution_count": null,
   "metadata": {
    "hidden": true,
    "scrolled": false
   },
   "outputs": [],
   "source": [
    "teamWisedf.style.highlight_max().set_precision(1)"
   ]
  },
  {
   "cell_type": "code",
   "execution_count": null,
   "metadata": {
    "hidden": true
   },
   "outputs": [],
   "source": [
    "teamWisedf.style.bar().set_precision(1)"
   ]
  },
  {
   "cell_type": "code",
   "execution_count": null,
   "metadata": {
    "hidden": true
   },
   "outputs": [],
   "source": [
    "teamWisedf.style.bar(subset=[\"passesPerMatch\"]).set_precision(1)"
   ]
  },
  {
   "cell_type": "code",
   "execution_count": null,
   "metadata": {
    "hidden": true
   },
   "outputs": [],
   "source": [
    "def color_avg_red(val):\n",
    "    \"\"\"\n",
    "    Takes a scalar and returns a string with\n",
    "    the css property `'color: red'` for negative\n",
    "    strings, black otherwise.\n",
    "    \"\"\"\n",
    "    if val.dtype == \"object\":\n",
    "        return [\"\"]*len(val)\n",
    "    valMean = val.mean()\n",
    "    colors = ['color: green' if (v > valMean) else 'color: red' for v in val]\n",
    "    return colors"
   ]
  },
  {
   "cell_type": "code",
   "execution_count": null,
   "metadata": {
    "hidden": true
   },
   "outputs": [],
   "source": [
    "teamWisedf.style.apply(color_avg_red).set_precision(1)"
   ]
  },
  {
   "cell_type": "markdown",
   "metadata": {
    "heading_collapsed": true,
    "hidden": true
   },
   "source": [
    "### Top Passing Players"
   ]
  },
  {
   "cell_type": "code",
   "execution_count": null,
   "metadata": {
    "code_folding": [],
    "hidden": true
   },
   "outputs": [],
   "source": [
    "playerWisedf = eventPassdf.groupby(\"player.id\").agg({\"player.name\": \"first\", \"team.name\": \"first\",\n",
    "                                                     \"match_id\": \"nunique\", \"type.id\": \"count\"})"
   ]
  },
  {
   "cell_type": "code",
   "execution_count": null,
   "metadata": {
    "hidden": true
   },
   "outputs": [],
   "source": [
    "playerWisedf[\"passesPerMatch\"] = playerWisedf[\"type.id\"].divide(playerWisedf[\"match_id\"])"
   ]
  },
  {
   "cell_type": "code",
   "execution_count": null,
   "metadata": {
    "hidden": true,
    "scrolled": true
   },
   "outputs": [],
   "source": [
    "playerWisedf.style.apply(color_avg_red).set_precision(1)"
   ]
  },
  {
   "cell_type": "code",
   "execution_count": null,
   "metadata": {
    "hidden": true
   },
   "outputs": [],
   "source": [
    "avgPassesPerMatch = playerWisedf[\"passesPerMatch\"].mean()"
   ]
  },
  {
   "cell_type": "code",
   "execution_count": null,
   "metadata": {
    "hidden": true
   },
   "outputs": [],
   "source": [
    "playerWisedf[playerWisedf[\"passesPerMatch\"] > avgPassesPerMatch].style.apply(color_avg_red).set_precision(1)"
   ]
  },
  {
   "cell_type": "code",
   "execution_count": null,
   "metadata": {
    "hidden": true,
    "scrolled": true
   },
   "outputs": [],
   "source": [
    "playerWisedf[playerWisedf[\"passesPerMatch\"] > avgPassesPerMatch].style.highlight_max()"
   ]
  },
  {
   "cell_type": "code",
   "execution_count": null,
   "metadata": {
    "hidden": true
   },
   "outputs": [],
   "source": [
    "playerWisedf[playerWisedf[\"passesPerMatch\"] > avgPassesPerMatch].style.bar().set_precision(1)"
   ]
  },
  {
   "cell_type": "markdown",
   "metadata": {
    "heading_collapsed": true,
    "hidden": true
   },
   "source": [
    "### Top Passing Players - Per90"
   ]
  },
  {
   "cell_type": "code",
   "execution_count": null,
   "metadata": {
    "hidden": true
   },
   "outputs": [],
   "source": [
    "eventPassdf.drop_duplicates(subset=[\"player.id\", \"match_id\"]).groupby([\"player.id\"])\\\n",
    ".agg({\"minsPlayed\": \"sum\"})"
   ]
  },
  {
   "cell_type": "code",
   "execution_count": null,
   "metadata": {
    "hidden": true
   },
   "outputs": [],
   "source": [
    "playerMatchMinsdf = eventPassdf.drop_duplicates(subset=[\"player.id\", \"match_id\"]).groupby([\"player.id\"])\\\n",
    ".agg({\"minsPlayed\": \"sum\"})"
   ]
  },
  {
   "cell_type": "code",
   "execution_count": null,
   "metadata": {
    "hidden": true
   },
   "outputs": [],
   "source": [
    "playerWisedf = eventPassdf.groupby(\"player.id\").agg({\"player.name\": \"first\", \"team.name\": \"first\",\n",
    "                                                     \"match_id\": \"nunique\", \"type.id\": \"count\"})"
   ]
  },
  {
   "cell_type": "code",
   "execution_count": null,
   "metadata": {
    "hidden": true
   },
   "outputs": [],
   "source": [
    "playerWisedf.shape"
   ]
  },
  {
   "cell_type": "code",
   "execution_count": null,
   "metadata": {
    "hidden": true
   },
   "outputs": [],
   "source": [
    "pd.concat([playerWisedf, playerMatchMinsdf], axis=1)"
   ]
  },
  {
   "cell_type": "code",
   "execution_count": null,
   "metadata": {
    "hidden": true
   },
   "outputs": [],
   "source": [
    "playerWisedf = pd.concat([playerWisedf, playerMatchMinsdf], axis=1)"
   ]
  },
  {
   "cell_type": "code",
   "execution_count": null,
   "metadata": {
    "hidden": true
   },
   "outputs": [],
   "source": [
    "playerWisedf[\"passesPerMatch\"] = playerWisedf[\"type.id\"].divide(playerWisedf[\"match_id\"])"
   ]
  },
  {
   "cell_type": "code",
   "execution_count": null,
   "metadata": {
    "hidden": true
   },
   "outputs": [],
   "source": [
    "playerWisedf[\"passesPer90\"] = playerWisedf[\"type.id\"].divide(playerWisedf[\"minsPlayed\"])*90"
   ]
  },
  {
   "cell_type": "code",
   "execution_count": null,
   "metadata": {
    "hidden": true
   },
   "outputs": [],
   "source": [
    "avgPassesPer90 = playerWisedf[\"passesPer90\"].mean()"
   ]
  },
  {
   "cell_type": "code",
   "execution_count": null,
   "metadata": {
    "hidden": true,
    "scrolled": false
   },
   "outputs": [],
   "source": [
    "playerWisedf[playerWisedf[\"passesPer90\"] > avgPassesPer90].style.bar(subset=[\"passesPerMatch\",\n",
    "                                                                             \"passesPer90\"]).set_precision(1)"
   ]
  },
  {
   "cell_type": "markdown",
   "metadata": {
    "heading_collapsed": true
   },
   "source": [
    "# Generating and Analysing Pass Maps"
   ]
  },
  {
   "cell_type": "code",
   "execution_count": null,
   "metadata": {
    "hidden": true,
    "scrolled": true
   },
   "outputs": [],
   "source": [
    "eventPassdf.info()"
   ]
  },
  {
   "cell_type": "code",
   "execution_count": null,
   "metadata": {
    "hidden": true
   },
   "outputs": [],
   "source": [
    "eventPassdf[\"location\"].head()"
   ]
  },
  {
   "cell_type": "code",
   "execution_count": null,
   "metadata": {
    "hidden": true
   },
   "outputs": [],
   "source": [
    "eventPassdf[\"pass.end_location\"].head()"
   ]
  },
  {
   "cell_type": "code",
   "execution_count": null,
   "metadata": {
    "hidden": true
   },
   "outputs": [],
   "source": [
    "eventPassdf[\"pass.end_location\"].str.split(\", \", expand=True)[1].str[:-1].apply(pd.to_numeric)"
   ]
  },
  {
   "cell_type": "code",
   "execution_count": null,
   "metadata": {
    "hidden": true
   },
   "outputs": [],
   "source": [
    "eventPassdf[\"startX\"] = eventPassdf[\"location\"].str.split(\", \", expand=True)[0].str[1:].apply(pd.to_numeric)\n",
    "eventPassdf[\"startY\"] = eventPassdf[\"location\"].str.split(\", \", expand=True)[1].str[:-1].apply(pd.to_numeric)\n",
    "\n",
    "eventPassdf[\"endX\"] = eventPassdf[\"pass.end_location\"].str.split(\", \", expand=True)[0].str[1:].apply(pd.to_numeric)\n",
    "eventPassdf[\"endY\"] = eventPassdf[\"pass.end_location\"].str.split(\", \", expand=True)[1].str[:-1].apply(pd.to_numeric)"
   ]
  },
  {
   "cell_type": "code",
   "execution_count": null,
   "metadata": {
    "hidden": true
   },
   "outputs": [],
   "source": [
    "pitch = mplsoccer.Pitch(pitch_color='#000000', line_color='white')\n",
    "fig, ax = pitch.draw(figsize=(14, 8))"
   ]
  },
  {
   "cell_type": "code",
   "execution_count": null,
   "metadata": {
    "hidden": true
   },
   "outputs": [],
   "source": [
    "pitch = mplsoccer.Pitch(pitch_color='#101010', line_color='white')\n",
    "fig, ax = pitch.draw(figsize=(14, 10))\n",
    "\n",
    "arrows = pitch.arrows(eventPassdf[\"startX\"], eventPassdf[\"startY\"],\n",
    "                      eventPassdf[\"endX\"], eventPassdf[\"endY\"],\n",
    "                      ax=ax,\n",
    "                      width=.1,\n",
    "                      color=\"yellow\")"
   ]
  },
  {
   "cell_type": "code",
   "execution_count": null,
   "metadata": {
    "hidden": true,
    "scrolled": true
   },
   "outputs": [],
   "source": [
    "eventPassdf[[\"match_id\", \"team.name\"]].drop_duplicates()"
   ]
  },
  {
   "cell_type": "code",
   "execution_count": null,
   "metadata": {
    "hidden": true
   },
   "outputs": [],
   "source": [
    "matchEventdf = eventPassdf[eventPassdf[\"match_id\"] == 303696]  # <-- Only addition to the code\n",
    "\n",
    "pitch = mplsoccer.Pitch(pitch_color='#101010', line_color='white')\n",
    "fig, ax = pitch.draw(figsize=(14, 10))\n",
    "\n",
    "\"\"\" \n",
    "    | \n",
    "    v Only modification to the code\n",
    "\"\"\"\n",
    "arrows = pitch.arrows(matchEventdf[\"startX\"], matchEventdf[\"startY\"],\n",
    "                      matchEventdf[\"endX\"], matchEventdf[\"endY\"],\n",
    "                      ax=ax,\n",
    "                      width=1,\n",
    "                      color=\"green\")"
   ]
  },
  {
   "cell_type": "code",
   "execution_count": null,
   "metadata": {
    "hidden": true
   },
   "outputs": [],
   "source": [
    "team_ids = eventPassdf[eventPassdf[\"match_id\"] == 303470][\"possession_team.id\"].unique()"
   ]
  },
  {
   "cell_type": "code",
   "execution_count": null,
   "metadata": {
    "hidden": true
   },
   "outputs": [],
   "source": [
    "# DF for Team 1:\n",
    "pass_map_df_team1 = eventPassdf[(eventPassdf[\"match_id\"] == 303470)\n",
    "                                & (eventPassdf[\"possession_team.id\"] == team_ids[0])]\n",
    "# DF for Team 2:\n",
    "pass_map_df_team2 = eventPassdf[(eventPassdf[\"match_id\"] == 303470)\n",
    "                                & (eventPassdf[\"possession_team.id\"] == team_ids[1])]"
   ]
  },
  {
   "cell_type": "code",
   "execution_count": null,
   "metadata": {
    "hidden": true,
    "scrolled": false
   },
   "outputs": [],
   "source": [
    "pitch = mplsoccer.Pitch(pitch_color='#101010', line_color='white')\n",
    "fig, ax = pitch.draw(figsize=(16, 8))\n",
    "\n",
    "arrows = pitch.arrows(pass_map_df_team1[\"startX\"], pass_map_df_team1[\"startY\"],\n",
    "                      pass_map_df_team1[\"endX\"], pass_map_df_team1[\"endY\"],\n",
    "                      ax=ax,\n",
    "                      width=1,\n",
    "                      color=\"green\")\n",
    "ax.set_title(pass_map_df_team1[\"possession_team.name\"].unique().item(), fontsize=30)"
   ]
  },
  {
   "cell_type": "code",
   "execution_count": null,
   "metadata": {
    "hidden": true
   },
   "outputs": [],
   "source": [
    "pass_map_df_team2[\"team.name\"].unique()"
   ]
  },
  {
   "cell_type": "code",
   "execution_count": null,
   "metadata": {
    "hidden": true,
    "scrolled": false
   },
   "outputs": [],
   "source": [
    "pitch = mplsoccer.Pitch(pitch_color='#101010', line_color='white')\n",
    "fig, ax = pitch.draw(figsize=(16, 8))\n",
    "\n",
    "arrows = pitch.arrows(pass_map_df_team2[\"startX\"], pass_map_df_team2[\"startY\"],\n",
    "                      pass_map_df_team2[\"endX\"], pass_map_df_team2[\"endY\"],\n",
    "                      ax=ax,\n",
    "                      width=1,\n",
    "                      color=\"gold\")\n",
    "ax.set_title(pass_map_df_team2[\"possession_team.name\"].unique().item(), fontsize=30)"
   ]
  },
  {
   "cell_type": "markdown",
   "metadata": {
    "heading_collapsed": true,
    "hidden": true
   },
   "source": [
    "## Side-by-Side Pass Maps"
   ]
  },
  {
   "cell_type": "code",
   "execution_count": null,
   "metadata": {
    "hidden": true
   },
   "outputs": [],
   "source": [
    "\"\"\" Set Pitch Parameters \"\"\"\n",
    "pitch = mplsoccer.Pitch(pitch_color='#101010', line_color='white')\n",
    "\n",
    "\"\"\" Create 1x2 grid of subplots for Analysing two teams \"\"\"\n",
    "fig, axs = pitch.draw(nrows=1, ncols=2, figsize=(16, 10))\n",
    "\n",
    "\"\"\" Team 1 Pass Map \"\"\"\n",
    "# Draw arrows to create pass map\n",
    "arrows = pitch.arrows(pass_map_df_team1[\"startX\"],\n",
    "                      pass_map_df_team1[\"startY\"],\n",
    "                      pass_map_df_team1[\"endX\"],\n",
    "                      pass_map_df_team1[\"endY\"],\n",
    "                      ax=axs[0],\n",
    "                      width=1,\n",
    "                      color=\"#ba4f45\")\n",
    "# Set title for subplot\n",
    "axs[0].set_title(pass_map_df_team1[\"possession_team.name\"].unique().item(),\n",
    "                 fontsize=30)\n",
    "\n",
    "\"\"\" Team 2 Pass Map \"\"\"\n",
    "# Draw arrows to create pass map\n",
    "arrows = pitch.arrows(pass_map_df_team2[\"startX\"],\n",
    "                      pass_map_df_team2[\"startY\"],\n",
    "                      pass_map_df_team2[\"endX\"],\n",
    "                      pass_map_df_team2[\"endY\"],\n",
    "                      ax=axs[1],\n",
    "                      width=1,\n",
    "                      color=\"#ad993c\")\n",
    "# Set title for subplot\n",
    "axs[1].set_title(pass_map_df_team2[\"possession_team.name\"].unique().item(),\n",
    "                 fontsize=30)"
   ]
  },
  {
   "cell_type": "code",
   "execution_count": null,
   "metadata": {
    "hidden": true
   },
   "outputs": [],
   "source": [
    "\"\"\"\n",
    "Create grouped data for every match\n",
    "\"\"\"\n",
    "groups = eventPassdf.groupby([\"match_id\"])"
   ]
  },
  {
   "cell_type": "code",
   "execution_count": null,
   "metadata": {
    "hidden": true
   },
   "outputs": [],
   "source": [
    "for name, group in groups:\n",
    "    print(name)\n",
    "    print(group.head())"
   ]
  },
  {
   "cell_type": "code",
   "execution_count": null,
   "metadata": {
    "hidden": true,
    "scrolled": true
   },
   "outputs": [],
   "source": [
    "\"\"\"\n",
    "Go through each match and plot pass maps for each team\n",
    "\"\"\"\n",
    "for name, group in groups:\n",
    "#     print(name)\n",
    "    team_ids = group[\"possession_team.id\"].unique()\n",
    "    \"\"\" Bifurcate team-wise data \"\"\"\n",
    "#     print(group.head())\n",
    "    pass_map_df_team1 = deepcopy(group[(group[\"possession_team.id\"] == team_ids[0])])\n",
    "    pass_map_df_team2 = deepcopy(group[(group[\"possession_team.id\"] == team_ids[1])])\n",
    "\n",
    "    \"\"\" Create 1x2 grid of subplots for Analysing two teams \"\"\"\n",
    "    fig, axs = pitch.draw(nrows=1, ncols=2, figsize=(16, 10))\n",
    "\n",
    "    \"\"\" Team 1 Pass Map \"\"\"\n",
    "    # Draw arrows to create pass map\n",
    "    arrows = pitch.arrows(pass_map_df_team1[\"startX\"],\n",
    "                          pass_map_df_team1[\"startY\"],\n",
    "                          pass_map_df_team1[\"endX\"],\n",
    "                          pass_map_df_team1[\"endY\"],\n",
    "                          ax=axs[0],\n",
    "                          width=1,\n",
    "                          color=\"#ba4f45\")\n",
    "    # Set title for subplot\n",
    "    axs[0].set_title(pass_map_df_team1[\"possession_team.name\"].unique().item(),\n",
    "                     fontsize=30)\n",
    "\n",
    "    \"\"\" Team 2 Pass Map \"\"\"\n",
    "    # Draw arrows to create pass map\n",
    "    arrows = pitch.arrows(pass_map_df_team2[\"startX\"],\n",
    "                          pass_map_df_team2[\"startY\"],\n",
    "                          pass_map_df_team2[\"endX\"],\n",
    "                          pass_map_df_team2[\"endY\"],\n",
    "                          ax=axs[1],\n",
    "                          width=1,\n",
    "                          color=\"#ad993c\")\n",
    "    # Set title for subplot\n",
    "    axs[1].set_title(pass_map_df_team2[\"possession_team.name\"].unique().item(),\n",
    "                     fontsize=30)\n",
    "    \n",
    "    fig.show()    "
   ]
  },
  {
   "cell_type": "code",
   "execution_count": null,
   "metadata": {
    "hidden": true,
    "scrolled": true
   },
   "outputs": [],
   "source": [
    "\"\"\"\n",
    "Save all the plots to a pdf\n",
    "\"\"\"\n",
    "\n",
    "my_pdf = PdfPages(\"../reports/passMapsLaLiga2019_20.pdf\")\n",
    "\n",
    "\"\"\" Go through each match and plot pass maps for each team \"\"\"\n",
    "for name, group in groups:\n",
    "    print(name)\n",
    "    team_ids = group[\"possession_team.id\"].unique()\n",
    "    \"\"\" Bifurcate team-wise data \"\"\"\n",
    "    print(group.head())\n",
    "    pass_map_df_team1 = deepcopy(group[(group[\"possession_team.id\"] == team_ids[0])])\n",
    "    pass_map_df_team2 = group[(group[\"possession_team.id\"] == team_ids[1])]\n",
    "\n",
    "    \"\"\" Create 1x2 grid of subplots for Analysing two teams \"\"\"\n",
    "    fig, axs = pitch.draw(nrows=1, ncols=2, figsize=(16, 10))\n",
    "\n",
    "    \"\"\" Team 1 Pass Map \"\"\"\n",
    "    # Draw arrows to create pass map\n",
    "    arrows = pitch.arrows(pass_map_df_team1[\"startX\"],\n",
    "                          pass_map_df_team1[\"startY\"],\n",
    "                          pass_map_df_team1[\"endX\"],\n",
    "                          pass_map_df_team1[\"endY\"],\n",
    "                          ax=axs[0],\n",
    "                          width=1,\n",
    "                          color=\"#ba4f45\")\n",
    "    # Set title for subplot\n",
    "    axs[0].set_title(pass_map_df_team1[\"possession_team.name\"].unique().item(),\n",
    "                     fontsize=30)\n",
    "\n",
    "    \"\"\" Team 2 Pass Map \"\"\"\n",
    "    # Draw arrows to create pass map\n",
    "    arrows = pitch.arrows(pass_map_df_team2[\"startX\"],\n",
    "                          pass_map_df_team2[\"startY\"],\n",
    "                          pass_map_df_team2[\"endX\"],\n",
    "                          pass_map_df_team2[\"endY\"],\n",
    "                          ax=axs[1],\n",
    "                          width=1,\n",
    "                          color=\"#ad993c\")\n",
    "    # Set title for subplot\n",
    "    axs[1].set_title(pass_map_df_team2[\"possession_team.name\"].unique().item(),\n",
    "                     fontsize=30)\n",
    "    \n",
    "    fig.show()\n",
    "    my_pdf.savefig()\n",
    "    \n",
    "my_pdf.close()"
   ]
  },
  {
   "cell_type": "markdown",
   "metadata": {
    "heading_collapsed": true
   },
   "source": [
    "# Passing Matrix"
   ]
  },
  {
   "cell_type": "markdown",
   "metadata": {
    "heading_collapsed": true,
    "hidden": true
   },
   "source": [
    "### Barcelona"
   ]
  },
  {
   "cell_type": "code",
   "execution_count": null,
   "metadata": {
    "hidden": true,
    "scrolled": true
   },
   "outputs": [],
   "source": [
    "eventPassdf[[\"team.id\", \"team.name\"]].drop_duplicates()"
   ]
  },
  {
   "cell_type": "code",
   "execution_count": null,
   "metadata": {
    "hidden": true
   },
   "outputs": [],
   "source": [
    "barcaData = eventPassdf[eventPassdf[\"team.id\"] == 217]"
   ]
  },
  {
   "cell_type": "code",
   "execution_count": null,
   "metadata": {
    "hidden": true,
    "scrolled": false
   },
   "outputs": [],
   "source": [
    "barcaData.pivot_table(values=\"type.id\", index=\"player.id\", columns=\"pass.recipient.id\", aggfunc=\"count\")"
   ]
  },
  {
   "cell_type": "code",
   "execution_count": null,
   "metadata": {
    "hidden": true
   },
   "outputs": [],
   "source": [
    "barcaPassMatrix = barcaData.pivot_table(values=\"type.id\", index=\"player.name\",\n",
    "                                        columns=\"pass.recipient.name\", aggfunc=\"count\")"
   ]
  },
  {
   "cell_type": "code",
   "execution_count": null,
   "metadata": {
    "hidden": true
   },
   "outputs": [],
   "source": [
    "barcaPassMatrix.style.highlight_max(axis=0).set_precision(0)"
   ]
  },
  {
   "cell_type": "code",
   "execution_count": null,
   "metadata": {
    "hidden": true
   },
   "outputs": [],
   "source": [
    "barcaPassMatrix.style\\\n",
    "    .background_gradient(cmap=\"Blues\", axis=1)\\\n",
    "    .set_precision(0)"
   ]
  },
  {
   "cell_type": "code",
   "execution_count": null,
   "metadata": {
    "hidden": true
   },
   "outputs": [],
   "source": [
    "barcaPassMatrix.style\\\n",
    "    .background_gradient(cmap=\"Blues\")\\\n",
    "    .highlight_null('black').set_precision(0)"
   ]
  },
  {
   "cell_type": "markdown",
   "metadata": {
    "hidden": true
   },
   "source": [
    "Go to [pandas styling page](https://pandas.pydata.org/pandas-docs/stable/user_guide/style.html) and search for \"Fun Stuff\""
   ]
  },
  {
   "cell_type": "code",
   "execution_count": null,
   "metadata": {
    "hidden": true
   },
   "outputs": [],
   "source": [
    "barcaPassMatrix.style\\\n",
    "    .background_gradient(cmap=\"Blues\", axis=1)\\\n",
    "    .highlight_null('black').set_precision(0)\\\n",
    "    .set_table_styles([dict(selector=\"th\",\n",
    "                            props=[(\"font-size\", \"4pt\")]),\n",
    "                       dict(selector=\"td\",\n",
    "                            props=[('padding', \"0em 0em\")]),\n",
    "                       dict(selector=\"th:hover\",\n",
    "                            props=[(\"font-size\", \"12pt\")]),\n",
    "                       dict(selector=\"tr:hover td:hover\",\n",
    "                            props=[('max-width', '200px'),\n",
    "                                   ('font-size', '15pt')])])"
   ]
  },
  {
   "cell_type": "code",
   "execution_count": null,
   "metadata": {
    "hidden": true,
    "scrolled": false
   },
   "outputs": [],
   "source": [
    "plt.figure(figsize=(18, 12))\n",
    "sns.heatmap(data=barcaPassMatrix, annot=True, linewidths=1, fmt=\".0f\", cmap=\"viridis\")\n",
    "plt.xlabel(\"\")\n",
    "plt.ylabel(\"\")"
   ]
  },
  {
   "cell_type": "markdown",
   "metadata": {
    "hidden": true
   },
   "source": [
    "NOTE: You can find more colormaps (for argument `cmap`) at the [seaborn colormap gallery](https://seaborn.pydata.org/tutorial/color_palettes.html)"
   ]
  },
  {
   "cell_type": "markdown",
   "metadata": {
    "heading_collapsed": true,
    "hidden": true
   },
   "source": [
    "### El-Classico"
   ]
  },
  {
   "cell_type": "code",
   "execution_count": null,
   "metadata": {
    "hidden": true
   },
   "outputs": [],
   "source": [
    "eventPassdf.loc[eventPassdf[\"team.name\"].str.contains(\"Madrid\"), [\"team.name\", \"team.id\"]].drop_duplicates()"
   ]
  },
  {
   "cell_type": "code",
   "execution_count": null,
   "metadata": {
    "hidden": true
   },
   "outputs": [],
   "source": [
    "seasonMetaDataLaLiga2019[[\"season.season_id\", \"season.season_name\"]].drop_duplicates()"
   ]
  },
  {
   "cell_type": "code",
   "execution_count": null,
   "metadata": {
    "hidden": true
   },
   "outputs": [],
   "source": [
    "seasonMetaDataLaLiga2019[(seasonMetaDataLaLiga2019[\"season.season_id\"] == 42) &\n",
    "                         (seasonMetaDataLaLiga2019[\"home_team.home_team_id\"].isin([217, 220])) &\n",
    "                         (seasonMetaDataLaLiga2019[\"away_team.away_team_id\"].isin([217, 220]))]"
   ]
  },
  {
   "cell_type": "code",
   "execution_count": null,
   "metadata": {
    "hidden": true
   },
   "outputs": [],
   "source": [
    "eventPassdf[eventPassdf[\"match_id\"].isin([303596, 303470])][\"match_id\"].drop_duplicates()"
   ]
  },
  {
   "cell_type": "code",
   "execution_count": null,
   "metadata": {
    "hidden": true
   },
   "outputs": [],
   "source": [
    "eventPassdf[eventPassdf[\"match_id\"].isin([303596, 303470])][\"match_id\"].drop_duplicates()"
   ]
  },
  {
   "cell_type": "code",
   "execution_count": null,
   "metadata": {
    "hidden": true
   },
   "outputs": [],
   "source": [
    "elClassicoData = eventPassdf[eventPassdf[\"match_id\"].isin([303596, 303470])]"
   ]
  },
  {
   "cell_type": "code",
   "execution_count": null,
   "metadata": {
    "hidden": true,
    "scrolled": true
   },
   "outputs": [],
   "source": [
    "elClassicoData.pivot_table(values=\"type.id\", index=\"player.name\", columns=\"pass.recipient.name\", aggfunc=\"count\")"
   ]
  },
  {
   "cell_type": "code",
   "execution_count": null,
   "metadata": {
    "hidden": true
   },
   "outputs": [],
   "source": [
    "elClassicoPassMatrix = elClassicoData.pivot_table(values=\"type.id\", index=\"player.name\",\n",
    "                                                  columns=\"pass.recipient.name\", aggfunc=\"count\")"
   ]
  },
  {
   "cell_type": "code",
   "execution_count": null,
   "metadata": {
    "hidden": true
   },
   "outputs": [],
   "source": [
    "elClassicoPassMatrix.style\\\n",
    "    .background_gradient(cmap=\"Blues\", axis=1)\\\n",
    "    .highlight_null('black').set_precision(0)\\\n",
    "    .set_table_styles([dict(selector=\"th\",\n",
    "                            props=[(\"font-size\", \"4pt\")]),\n",
    "                       dict(selector=\"td\",\n",
    "                            props=[('padding', \"0em 0em\")]),\n",
    "                       dict(selector=\"th:hover\",\n",
    "                            props=[(\"font-size\", \"12pt\")]),\n",
    "                       dict(selector=\"tr:hover td:hover\",\n",
    "                            props=[('max-width', '200px'),\n",
    "                                   ('font-size', '15pt')])])"
   ]
  },
  {
   "cell_type": "code",
   "execution_count": null,
   "metadata": {
    "hidden": true,
    "scrolled": false
   },
   "outputs": [],
   "source": [
    "plt.figure(figsize=(18, 12))\n",
    "sns.heatmap(data=elClassicoPassMatrix, annot=True, linewidths=1, fmt=\".0f\", cmap=\"YlGnBu\")\n",
    "plt.xlabel(\"\")\n",
    "plt.ylabel(\"\")"
   ]
  },
  {
   "cell_type": "code",
   "execution_count": null,
   "metadata": {
    "hidden": true
   },
   "outputs": [],
   "source": [
    "plt.figure(figsize=(18, 12))\n",
    "sns.heatmap(data=elClassicoPassMatrix[elClassicoPassMatrix.apply(lambda x: x > 10)],\n",
    "            annot=True, linewidths=1, fmt=\".0f\", cmap=\"YlGnBu\")\n",
    "plt.xlabel(\"\")\n",
    "plt.ylabel(\"\")"
   ]
  }
 ],
 "metadata": {
  "kernelspec": {
   "display_name": "Python 3",
   "language": "python",
   "name": "python3"
  },
  "language_info": {
   "codemirror_mode": {
    "name": "ipython",
    "version": 3
   },
   "file_extension": ".py",
   "mimetype": "text/x-python",
   "name": "python",
   "nbconvert_exporter": "python",
   "pygments_lexer": "ipython3",
   "version": "3.6.5"
  },
  "toc": {
   "base_numbering": 1,
   "nav_menu": {
    "height": "246px",
    "width": "365px"
   },
   "number_sections": true,
   "sideBar": true,
   "skip_h1_title": false,
   "title_cell": "Table of Contents",
   "title_sidebar": "Contents",
   "toc_cell": false,
   "toc_position": {
    "height": "calc(100% - 180px)",
    "left": "10px",
    "top": "150px",
    "width": "355px"
   },
   "toc_section_display": true,
   "toc_window_display": true
  }
 },
 "nbformat": 4,
 "nbformat_minor": 2
}
