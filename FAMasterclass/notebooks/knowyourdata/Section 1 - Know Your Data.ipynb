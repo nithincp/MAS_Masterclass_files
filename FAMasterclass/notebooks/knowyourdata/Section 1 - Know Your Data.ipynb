{
 "cells": [
  {
   "cell_type": "markdown",
   "metadata": {
    "heading_collapsed": true
   },
   "source": [
    "# Import Required Libraries"
   ]
  },
  {
   "cell_type": "code",
   "execution_count": null,
   "metadata": {
    "code_folding": [],
    "hidden": true
   },
   "outputs": [],
   "source": [
    "import sys\n",
    "\n",
    "# Data Manipulation libraries:\n",
    "import numpy as np\n",
    "import pandas as pd\n",
    "from copy import deepcopy\n",
    "\n",
    "# Plotting libraries\n",
    "import mplsoccer\n",
    "import seaborn as sns\n",
    "import matplotlib.pyplot as plt\n",
    "from matplotlib.backends.backend_pdf import PdfPages"
   ]
  },
  {
   "cell_type": "markdown",
   "metadata": {
    "hidden": true
   },
   "source": [
    "[mplsoccer docs](https://mplsoccer.readthedocs.io/en/latest/)"
   ]
  },
  {
   "cell_type": "markdown",
   "metadata": {
    "heading_collapsed": true
   },
   "source": [
    "# Load the Data\n",
    "\n",
    "**Data source** --> Statsbomb \\\n",
    "**Competition** --> La Liga \\\n",
    "**Season** --> 2019-20"
   ]
  },
  {
   "cell_type": "markdown",
   "metadata": {
    "hidden": true
   },
   "source": [
    "Folder Structure\n",
    "\n",
    "- FA Masterclass\n",
    "    - notebooks\n",
    "    - data\n",
    "    - reports\n",
    "    - docs"
   ]
  },
  {
   "cell_type": "code",
   "execution_count": null,
   "metadata": {
    "hidden": true
   },
   "outputs": [],
   "source": [
    "eventsDataLaLiga2019 = pd.read_csv(\"../data/matchwise_events_data.csv\", low_memory=False)"
   ]
  },
  {
   "cell_type": "code",
   "execution_count": null,
   "metadata": {
    "hidden": true
   },
   "outputs": [],
   "source": [
    "seasonMetaDataLaLiga2019 = pd.read_csv(\"../data/season_matchwise_data.csv\", low_memory=False)"
   ]
  },
  {
   "cell_type": "code",
   "execution_count": null,
   "metadata": {
    "hidden": true
   },
   "outputs": [],
   "source": [
    "pd.set_option(\"display.max_rows\", 150)\n",
    "pd.set_option(\"display.max_columns\", 50)"
   ]
  },
  {
   "cell_type": "code",
   "execution_count": null,
   "metadata": {
    "hidden": true
   },
   "outputs": [],
   "source": [
    "eventsDataLaLiga2019.columns"
   ]
  },
  {
   "cell_type": "markdown",
   "metadata": {
    "heading_collapsed": true
   },
   "source": [
    "# Know Your Data (KYD)"
   ]
  },
  {
   "cell_type": "markdown",
   "metadata": {
    "hidden": true
   },
   "source": [
    "[StatsBomb Data Docs](https://github.com/statsbomb/open-data)"
   ]
  },
  {
   "cell_type": "markdown",
   "metadata": {
    "heading_collapsed": true
   },
   "source": [
    "# Data Cleaning and Exploratory Data Analysis (EDA)"
   ]
  },
  {
   "cell_type": "markdown",
   "metadata": {
    "hidden": true
   },
   "source": [
    "EDA, mainly, does three things:\n",
    "\n",
    "1. It helps clean up a dataset.\n",
    "1. It helps identify metrics that can be added by calculations.\n",
    "2. It gives you a better understanding of the variables and the relationships between them."
   ]
  },
  {
   "cell_type": "markdown",
   "metadata": {
    "hidden": true
   },
   "source": [
    "## Get Meta Info (Event Data)"
   ]
  },
  {
   "cell_type": "code",
   "execution_count": null,
   "metadata": {
    "hidden": true,
    "scrolled": true
   },
   "outputs": [],
   "source": [
    "eventsDataLaLiga2019.info()"
   ]
  },
  {
   "cell_type": "code",
   "execution_count": null,
   "metadata": {
    "hidden": true
   },
   "outputs": [],
   "source": [
    "eventsDataLaLiga2019.columns"
   ]
  },
  {
   "cell_type": "code",
   "execution_count": null,
   "metadata": {
    "hidden": true,
    "scrolled": true
   },
   "outputs": [],
   "source": [
    "eventsDataLaLiga2019.columns.values"
   ]
  },
  {
   "cell_type": "code",
   "execution_count": null,
   "metadata": {
    "hidden": true,
    "scrolled": true
   },
   "outputs": [],
   "source": [
    "eventsDataLaLiga2019.dtypes"
   ]
  },
  {
   "cell_type": "code",
   "execution_count": null,
   "metadata": {
    "hidden": true,
    "scrolled": true
   },
   "outputs": [],
   "source": [
    "eventsDataLaLiga2019.head(10)"
   ]
  },
  {
   "cell_type": "code",
   "execution_count": null,
   "metadata": {
    "hidden": true,
    "scrolled": true
   },
   "outputs": [],
   "source": [
    "eventsDataLaLiga2019[[\"type.id\", \"type.name\"]].drop_duplicates()"
   ]
  },
  {
   "cell_type": "code",
   "execution_count": null,
   "metadata": {
    "hidden": true
   },
   "outputs": [],
   "source": [
    "eventPassdf = deepcopy(eventsDataLaLiga2019[eventsDataLaLiga2019[\"type.id\"] == 30])"
   ]
  },
  {
   "cell_type": "code",
   "execution_count": null,
   "metadata": {
    "hidden": true
   },
   "outputs": [],
   "source": [
    "eventPassdf.shape"
   ]
  },
  {
   "cell_type": "markdown",
   "metadata": {
    "hidden": true
   },
   "source": [
    "## Get Meta Info (Season Data)"
   ]
  },
  {
   "cell_type": "code",
   "execution_count": null,
   "metadata": {
    "hidden": true,
    "scrolled": true
   },
   "outputs": [],
   "source": [
    "seasonMetaDataLaLiga2019.info()"
   ]
  },
  {
   "cell_type": "markdown",
   "metadata": {
    "hidden": true
   },
   "source": [
    "## Join Season Data to Event Data"
   ]
  },
  {
   "cell_type": "code",
   "execution_count": null,
   "metadata": {
    "hidden": true
   },
   "outputs": [],
   "source": [
    "seasonMetaDataLaLiga2019.columns"
   ]
  },
  {
   "cell_type": "code",
   "execution_count": null,
   "metadata": {
    "hidden": true
   },
   "outputs": [],
   "source": [
    "seasonCols = ['match_id', 'match_date', 'kick_off', 'home_score', 'away_score',\n",
    "              'home_team.home_team_id', 'home_team.home_team_name',\n",
    "              'away_team.away_team_id', 'away_team.away_team_name']"
   ]
  },
  {
   "cell_type": "code",
   "execution_count": null,
   "metadata": {
    "hidden": true
   },
   "outputs": [],
   "source": [
    "seasonCols.__len__()"
   ]
  },
  {
   "cell_type": "code",
   "execution_count": null,
   "metadata": {
    "hidden": true
   },
   "outputs": [],
   "source": [
    "seasonMetaDataLaLiga2019[seasonMetaDataLaLiga2019[\"match_id\"] == 303731]"
   ]
  },
  {
   "cell_type": "code",
   "execution_count": null,
   "metadata": {
    "hidden": true
   },
   "outputs": [],
   "source": [
    "pd.merge(eventsDataLaLiga2019,\n",
    "                       seasonMetaDataLaLiga2019[seasonCols],\n",
    "                       how=\"left\", on=[\"match_id\"])"
   ]
  },
  {
   "cell_type": "code",
   "execution_count": null,
   "metadata": {
    "hidden": true
   },
   "outputs": [],
   "source": [
    "eventsDataLaLiga2019 = pd.merge(eventsDataLaLiga2019,\n",
    "                                seasonMetaDataLaLiga2019[seasonCols],\n",
    "                                how=\"left\", on=[\"match_id\"])"
   ]
  },
  {
   "cell_type": "markdown",
   "metadata": {
    "heading_collapsed": true,
    "hidden": true
   },
   "source": [
    "## Feature Engineering"
   ]
  },
  {
   "cell_type": "markdown",
   "metadata": {
    "hidden": true
   },
   "source": [
    "### `started` Column"
   ]
  },
  {
   "cell_type": "code",
   "execution_count": null,
   "metadata": {
    "hidden": true,
    "scrolled": true
   },
   "outputs": [],
   "source": [
    "eventsDataLaLiga2019.head()"
   ]
  },
  {
   "cell_type": "code",
   "execution_count": null,
   "metadata": {
    "hidden": true
   },
   "outputs": [],
   "source": [
    "eventsDataLaLiga2019[(eventsDataLaLiga2019[\"match_id\"] == 303707)].head()"
   ]
  },
  {
   "cell_type": "code",
   "execution_count": null,
   "metadata": {
    "hidden": true
   },
   "outputs": [],
   "source": [
    "eventsDataLaLiga2019[(eventsDataLaLiga2019[\"match_id\"] == 303707)\n",
    "                    & (eventsDataLaLiga2019[\"type.id\"] == 35)][\"tactics.lineup\"]"
   ]
  },
  {
   "cell_type": "code",
   "execution_count": null,
   "metadata": {
    "hidden": true
   },
   "outputs": [],
   "source": [
    "eventsDataLaLiga2019[(eventsDataLaLiga2019[\"match_id\"] == 303707)\n",
    "                    & (eventsDataLaLiga2019[\"type.id\"] == 35)][\"tactics.lineup\"].iloc[0]"
   ]
  },
  {
   "cell_type": "code",
   "execution_count": null,
   "metadata": {
    "hidden": true
   },
   "outputs": [],
   "source": [
    "pd.json_normalize(eventsDataLaLiga2019[(eventsDataLaLiga2019[\"match_id\"] == 303707)\n",
    "                    & (eventsDataLaLiga2019[\"type.id\"] == 35)][\"tactics.lineup\"].iloc[0])"
   ]
  },
  {
   "cell_type": "code",
   "execution_count": null,
   "metadata": {
    "hidden": true
   },
   "outputs": [],
   "source": [
    "from ast import literal_eval"
   ]
  },
  {
   "cell_type": "code",
   "execution_count": null,
   "metadata": {
    "hidden": true,
    "scrolled": true
   },
   "outputs": [],
   "source": [
    "eventsDataLaLiga2019[(eventsDataLaLiga2019[\"match_id\"] == 303707)\n",
    "                    & (eventsDataLaLiga2019[\"type.id\"] == 35)][\"tactics.lineup\"].apply(literal_eval).iloc[0]"
   ]
  },
  {
   "cell_type": "code",
   "execution_count": null,
   "metadata": {
    "hidden": true
   },
   "outputs": [],
   "source": [
    "pd.json_normalize(eventsDataLaLiga2019[(eventsDataLaLiga2019[\"match_id\"] == 303707)\n",
    "                    & (eventsDataLaLiga2019[\"type.id\"] == 35)][\"tactics.lineup\"].apply(literal_eval).iloc[1])"
   ]
  },
  {
   "cell_type": "code",
   "execution_count": null,
   "metadata": {
    "hidden": true
   },
   "outputs": [],
   "source": [
    "df = pd.json_normalize(eventsDataLaLiga2019[(eventsDataLaLiga2019[\"match_id\"] == 303707)\n",
    "                    & (eventsDataLaLiga2019[\"type.id\"] == 35)][\"tactics.lineup\"].apply(literal_eval).iloc[0])"
   ]
  },
  {
   "cell_type": "code",
   "execution_count": null,
   "metadata": {
    "hidden": true
   },
   "outputs": [],
   "source": [
    "df[\"started\"] = \"Yes\"\n",
    "df"
   ]
  },
  {
   "cell_type": "code",
   "execution_count": null,
   "metadata": {
    "hidden": true
   },
   "outputs": [],
   "source": [
    "df.insert(0, \"match_id\", 303707)"
   ]
  },
  {
   "cell_type": "code",
   "execution_count": null,
   "metadata": {
    "hidden": true
   },
   "outputs": [],
   "source": [
    "df"
   ]
  },
  {
   "cell_type": "code",
   "execution_count": null,
   "metadata": {
    "hidden": true,
    "scrolled": true
   },
   "outputs": [],
   "source": [
    "finalLineUpdf = pd.DataFrame()\n",
    "for m_id in eventsDataLaLiga2019[\"match_id\"].unique():\n",
    "    print(m_id, \"\\n\")\n",
    "    match_df = eventsDataLaLiga2019[(eventsDataLaLiga2019[\"match_id\"] == m_id)\n",
    "                                    & (eventsDataLaLiga2019[\"type.id\"] == 35)][\"tactics.lineup\"].apply(literal_eval)\n",
    "    \n",
    "    df1 = pd.json_normalize(match_df.iloc[0])\n",
    "    df2 = pd.json_normalize(match_df.iloc[1])\n",
    "\n",
    "    df = df1.append(df2)\n",
    "    df.insert(0, \"match_id\", m_id)\n",
    "    \n",
    "    df[\"started\"] = \"Yes\"\n",
    "    \n",
    "    finalLineUpdf = finalLineUpdf.append(df)\n",
    "\n",
    "print(finalLineUpdf.head(20))"
   ]
  },
  {
   "cell_type": "code",
   "execution_count": null,
   "metadata": {
    "hidden": true
   },
   "outputs": [],
   "source": [
    "finalLineUpdf"
   ]
  },
  {
   "cell_type": "code",
   "execution_count": null,
   "metadata": {
    "hidden": true,
    "scrolled": true
   },
   "outputs": [],
   "source": [
    "finalLineUpdf.columns"
   ]
  },
  {
   "cell_type": "code",
   "execution_count": null,
   "metadata": {
    "hidden": true
   },
   "outputs": [],
   "source": [
    "eventsDataLaLiga2019 = pd.merge(eventsDataLaLiga2019,\n",
    "                                finalLineUpdf[['match_id', 'player.id', 'jersey_number', 'started']],\n",
    "                                how=\"left\",\n",
    "                                on=['match_id', 'player.id'])"
   ]
  },
  {
   "cell_type": "code",
   "execution_count": null,
   "metadata": {
    "hidden": true
   },
   "outputs": [],
   "source": [
    "eventsDataLaLiga2019.shape"
   ]
  },
  {
   "cell_type": "code",
   "execution_count": null,
   "metadata": {
    "hidden": true
   },
   "outputs": [],
   "source": [
    "eventsDataLaLiga2019[(eventsDataLaLiga2019[\"match_id\"] == 303421)\n",
    "                    & (eventsDataLaLiga2019[\"player.id\"] == 6571)]"
   ]
  },
  {
   "cell_type": "markdown",
   "metadata": {
    "heading_collapsed": true,
    "hidden": true
   },
   "source": [
    "### `minsPlayed` Column"
   ]
  },
  {
   "cell_type": "code",
   "execution_count": null,
   "metadata": {
    "hidden": true
   },
   "outputs": [],
   "source": [
    "minsPlayeddf = eventsDataLaLiga2019.groupby([\"match_id\", \"player.id\"]).agg(\n",
    "    {\"player.name\": \"first\", \"team.name\": \"first\", \"minute\": [\"min\", \"max\"]}).reset_index()\n",
    "minsPlayeddf.head()"
   ]
  },
  {
   "cell_type": "code",
   "execution_count": null,
   "metadata": {
    "hidden": true
   },
   "outputs": [],
   "source": [
    "eventsDataLaLiga2019[eventsDataLaLiga2019['substitution.outcome.id'].notnull()]\\\n",
    "[[\"match_id\", \"player.name\", 'substitution.replacement.id', 'substitution.replacement.name', \"minute\"]]"
   ]
  },
  {
   "cell_type": "code",
   "execution_count": null,
   "metadata": {
    "hidden": true
   },
   "outputs": [],
   "source": [
    "subData = eventsDataLaLiga2019[[\"match_id\", \"substitution.replacement.id\", \"minute\"]]\\\n",
    ".dropna(subset=[\"substitution.replacement.id\"])"
   ]
  },
  {
   "cell_type": "code",
   "execution_count": null,
   "metadata": {
    "code_folding": [],
    "hidden": true
   },
   "outputs": [],
   "source": [
    "subData.rename(columns={\"minute\": \"minMinute\",\n",
    "                        \"substitution.replacement.id\": \"subID\"}, inplace=True)"
   ]
  },
  {
   "cell_type": "code",
   "execution_count": null,
   "metadata": {
    "hidden": true
   },
   "outputs": [],
   "source": [
    "subData.head(10)"
   ]
  },
  {
   "cell_type": "code",
   "execution_count": null,
   "metadata": {
    "hidden": true
   },
   "outputs": [],
   "source": [
    "pd.merge(eventsDataLaLiga2019, subData, how=\"left\",\n",
    "        left_on=[\"match_id\", \"player.id\"], right_on=[\"match_id\", \"subID\"])"
   ]
  },
  {
   "cell_type": "code",
   "execution_count": null,
   "metadata": {
    "code_folding": [],
    "hidden": true
   },
   "outputs": [],
   "source": [
    "eventsDataLaLiga2019 = pd.merge(eventsDataLaLiga2019, subData, how=\"left\",\n",
    "                       left_on=[\"match_id\", \"player.id\"],\n",
    "                       right_on=[\"match_id\", \"subID\"])"
   ]
  },
  {
   "cell_type": "code",
   "execution_count": null,
   "metadata": {
    "hidden": true
   },
   "outputs": [],
   "source": [
    "eventsDataLaLiga2019[eventsDataLaLiga2019[\"match_id\"] == 303421]"
   ]
  },
  {
   "cell_type": "code",
   "execution_count": null,
   "metadata": {
    "hidden": true
   },
   "outputs": [],
   "source": [
    "eventsDataLaLiga2019.dropna(subset=[\"started\"])[\"minMinute\"].unique()"
   ]
  },
  {
   "cell_type": "code",
   "execution_count": null,
   "metadata": {
    "hidden": true
   },
   "outputs": [],
   "source": [
    "eventsDataLaLiga2019[eventsDataLaLiga2019['substitution.outcome.id'].notnull()]\\\n",
    "[[\"match_id\", \"player.id\", \"player.name\", \"minute\"]]"
   ]
  },
  {
   "cell_type": "code",
   "execution_count": null,
   "metadata": {
    "hidden": true
   },
   "outputs": [],
   "source": [
    "subOutData = eventsDataLaLiga2019[eventsDataLaLiga2019['substitution.outcome.id'].notnull()]\\\n",
    "            [[\"match_id\", \"player.id\", \"minute\"]]"
   ]
  },
  {
   "cell_type": "code",
   "execution_count": null,
   "metadata": {
    "hidden": true
   },
   "outputs": [],
   "source": [
    "subOutData.rename(columns={\"minute\": \"maxMinute\"}, inplace=True)"
   ]
  },
  {
   "cell_type": "code",
   "execution_count": null,
   "metadata": {
    "hidden": true
   },
   "outputs": [],
   "source": [
    "pd.merge(eventsDataLaLiga2019, subOutData,\n",
    "         how=\"left\",\n",
    "         on=[\"match_id\", \"player.id\"])"
   ]
  },
  {
   "cell_type": "code",
   "execution_count": null,
   "metadata": {
    "hidden": true
   },
   "outputs": [],
   "source": [
    "eventsDataLaLiga2019 = pd.merge(eventsDataLaLiga2019, subOutData,\n",
    "         how=\"left\",\n",
    "         on=[\"match_id\", \"player.id\"])"
   ]
  },
  {
   "cell_type": "code",
   "execution_count": null,
   "metadata": {
    "hidden": true
   },
   "outputs": [],
   "source": [
    "eventsDataLaLiga2019.dropna(subset=[\"maxMinute\"])"
   ]
  },
  {
   "cell_type": "code",
   "execution_count": null,
   "metadata": {
    "hidden": true
   },
   "outputs": [],
   "source": [
    "eventsDataLaLiga2019.groupby([\"match_id\"])[\"minute\"].transform(lambda x: x.max())"
   ]
  },
  {
   "cell_type": "code",
   "execution_count": null,
   "metadata": {
    "hidden": true
   },
   "outputs": [],
   "source": [
    "eventsDataLaLiga2019[\"maxMinsMatch\"] =\\\n",
    "    eventsDataLaLiga2019.groupby([\"match_id\"])[\"minute\"].transform(lambda x: x.max())"
   ]
  },
  {
   "cell_type": "code",
   "execution_count": null,
   "metadata": {
    "hidden": true
   },
   "outputs": [],
   "source": [
    "eventsDataLaLiga2019[\"minMinute\"] = np.where(eventsDataLaLiga2019[\"started\"] == \"Yes\",\n",
    "                                             0, eventsDataLaLiga2019[\"minMinute\"])"
   ]
  },
  {
   "cell_type": "code",
   "execution_count": null,
   "metadata": {
    "hidden": true
   },
   "outputs": [],
   "source": [
    "eventsDataLaLiga2019[\"maxMinute\"] = np.where(eventsDataLaLiga2019[\"maxMinute\"].isnull(),\n",
    "                                             eventsDataLaLiga2019[\"maxMinsMatch\"],\n",
    "                                             eventsDataLaLiga2019[\"maxMinute\"])"
   ]
  },
  {
   "cell_type": "code",
   "execution_count": null,
   "metadata": {
    "hidden": true
   },
   "outputs": [],
   "source": [
    "eventsDataLaLiga2019.groupby([\"match_id\", \"player.id\"]).agg(\n",
    "    {\"player.name\": \"first\", \"team.name\": \"first\",\n",
    "     \"minMinute\": \"first\", \"maxMinute\": \"max\"}).reset_index()"
   ]
  },
  {
   "cell_type": "code",
   "execution_count": null,
   "metadata": {
    "hidden": true
   },
   "outputs": [],
   "source": [
    "eventsDataLaLiga2019.groupby([\"match_id\", \"player.id\"]).agg(\n",
    "    {\"player.name\": \"first\", \"team.name\": \"first\",\n",
    "     \"minute\": [\"min\", \"max\"]}).reset_index()"
   ]
  },
  {
   "cell_type": "code",
   "execution_count": null,
   "metadata": {
    "hidden": true
   },
   "outputs": [],
   "source": [
    "minsPlayeddf = eventsDataLaLiga2019.groupby([\"match_id\", \"player.id\"]).agg(\n",
    "    {\"player.name\": \"first\", \"team.name\": \"first\",\n",
    "     \"minMinute\": \"first\", \"maxMinute\": \"max\"}).reset_index()\n",
    "minsPlayeddf.head()"
   ]
  },
  {
   "cell_type": "code",
   "execution_count": null,
   "metadata": {
    "hidden": true
   },
   "outputs": [],
   "source": [
    "minsPlayeddf[\"minsPlayed\"] = minsPlayeddf[\"maxMinute\"].subtract(minsPlayeddf[\"minMinute\"])"
   ]
  },
  {
   "cell_type": "code",
   "execution_count": null,
   "metadata": {
    "hidden": true
   },
   "outputs": [],
   "source": [
    "eventsDataLaLiga2019 = pd.merge(eventsDataLaLiga2019,\n",
    "                       minsPlayeddf[[\"match_id\", \"player.id\", \"minsPlayed\"]],\n",
    "                       how=\"left\",\n",
    "                       on=[\"match_id\", \"player.id\"])\n",
    "eventsDataLaLiga2019.head()"
   ]
  },
  {
   "cell_type": "code",
   "execution_count": null,
   "metadata": {
    "hidden": true,
    "scrolled": true
   },
   "outputs": [],
   "source": [
    "eventsDataLaLiga2019.head(10)"
   ]
  },
  {
   "cell_type": "code",
   "execution_count": null,
   "metadata": {
    "hidden": true
   },
   "outputs": [],
   "source": [
    "eventsDataLaLiga2019.to_csv(\"../data/matchwise_events_data_updated.csv\", index=False)"
   ]
  }
 ],
 "metadata": {
  "kernelspec": {
   "display_name": "Python 3",
   "language": "python",
   "name": "python3"
  },
  "language_info": {
   "codemirror_mode": {
    "name": "ipython",
    "version": 3
   },
   "file_extension": ".py",
   "mimetype": "text/x-python",
   "name": "python",
   "nbconvert_exporter": "python",
   "pygments_lexer": "ipython3",
   "version": "3.6.5"
  },
  "toc": {
   "base_numbering": 1,
   "nav_menu": {
    "height": "246px",
    "width": "365px"
   },
   "number_sections": true,
   "sideBar": true,
   "skip_h1_title": false,
   "title_cell": "Table of Contents",
   "title_sidebar": "Contents",
   "toc_cell": false,
   "toc_position": {
    "height": "calc(100% - 180px)",
    "left": "10px",
    "top": "150px",
    "width": "355px"
   },
   "toc_section_display": true,
   "toc_window_display": true
  }
 },
 "nbformat": 4,
 "nbformat_minor": 2
}
