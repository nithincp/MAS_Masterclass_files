{
 "cells": [
  {
   "cell_type": "markdown",
   "metadata": {
    "heading_collapsed": true
   },
   "source": [
    "# Who is a Playmaker?"
   ]
  },
  {
   "cell_type": "markdown",
   "metadata": {
    "hidden": true
   },
   "source": [
    "According to [Wikipedia](https://en.wikipedia.org/wiki/Playmaker), a playmaker is a player who controls the flow of the team's offensive play, and is often involved in **passing moves which lead to goals**, through their **vision**, **technique**, **ball control**, **creativity**, and **passing ability**.\n",
    "\n",
    "According to [Squawka](https://www.squawka.com/en/what-is-a-deep-lying-playmaker-footballs-best-examples/), playmaking is not just about defensive midfielders who can pass, nor is it about the kind of central midfielders who will drop deep to receive the ball and then also push up, or go wide, etc. This is about footballers who play primarily at the base of midfield, and whose chief function is to dictate play from there with intelligent passes through and beyond opposing midfield lines."
   ]
  },
  {
   "cell_type": "code",
   "execution_count": null,
   "metadata": {
    "hidden": true,
    "scrolled": false
   },
   "outputs": [],
   "source": [
    "from IPython.display import Image\n",
    "Image(\"../pics/Playmakers.png\")"
   ]
  },
  {
   "cell_type": "markdown",
   "metadata": {
    "heading_collapsed": true
   },
   "source": [
    "# Import Required Libraries"
   ]
  },
  {
   "cell_type": "code",
   "execution_count": null,
   "metadata": {
    "hidden": true
   },
   "outputs": [],
   "source": [
    "# Data Manipulation libraries:\n",
    "import numpy as np\n",
    "import pandas as pd\n",
    "from copy import deepcopy\n",
    "\n",
    "# Plotting libraries\n",
    "import mplsoccer\n",
    "import seaborn as sns\n",
    "import plotly.express as px\n",
    "import matplotlib.pyplot as plt\n",
    "from matplotlib.patches import Arc\n",
    "from matplotlib.backends.backend_pdf import PdfPages\n",
    "from matplotlib.projections import get_projection_class\n",
    "from mpl_toolkits.axes_grid1.inset_locator import inset_axes"
   ]
  },
  {
   "cell_type": "code",
   "execution_count": null,
   "metadata": {
    "hidden": true
   },
   "outputs": [],
   "source": [
    "pd.set_option(\"display.max_columns\", 50)"
   ]
  },
  {
   "cell_type": "markdown",
   "metadata": {
    "heading_collapsed": true
   },
   "source": [
    "# Load the Data"
   ]
  },
  {
   "cell_type": "markdown",
   "metadata": {
    "hidden": true
   },
   "source": [
    "**Data source** --> Statsbomb \\\n",
    "**Competition** --> La Liga \\\n",
    "**Season** --> 2019-20"
   ]
  },
  {
   "cell_type": "code",
   "execution_count": null,
   "metadata": {
    "hidden": true
   },
   "outputs": [],
   "source": [
    "eventPassDataLaLiga2019 = pd.read_csv(\"../data/passDataLaLiga2020.csv\",\n",
    "                                      low_memory=False)"
   ]
  },
  {
   "cell_type": "code",
   "execution_count": null,
   "metadata": {
    "hidden": true
   },
   "outputs": [],
   "source": [
    "passRelDataLaLiga2019 = pd.read_csv(\"../data/passRelDataLaLiga2020.csv\",\n",
    "                                    low_memory=False)"
   ]
  },
  {
   "cell_type": "markdown",
   "metadata": {
    "heading_collapsed": true
   },
   "source": [
    "# Exploring Traits of a Playmaker"
   ]
  },
  {
   "cell_type": "markdown",
   "metadata": {
    "hidden": true
   },
   "source": [
    "1. Vision\n",
    "1. Ball control\n",
    "1. Creativity\n",
    "1. Passing ability"
   ]
  },
  {
   "cell_type": "markdown",
   "metadata": {
    "hidden": true
   },
   "source": [
    "## Vision"
   ]
  },
  {
   "cell_type": "markdown",
   "metadata": {
    "hidden": true
   },
   "source": [
    "### Get Vision Data"
   ]
  },
  {
   "cell_type": "code",
   "execution_count": null,
   "metadata": {
    "hidden": true,
    "scrolled": true
   },
   "outputs": [],
   "source": [
    "eventPassDataLaLiga2019.columns.values"
   ]
  },
  {
   "cell_type": "code",
   "execution_count": null,
   "metadata": {
    "hidden": true
   },
   "outputs": [],
   "source": [
    "eventPassDataLaLiga2019.groupby([\"player.id\"]).agg({\"player.name\": \"first\",\n",
    "                                                    \"team.name\": \"first\",\n",
    "                                                    \"type.id\": \"count\",\n",
    "                                                    \"pass.through_ball\": \"sum\",\n",
    "                                                    \"pass.shot_assist\": \"sum\",\n",
    "                                                    \"pass.goal_assist\": \"sum\"})"
   ]
  },
  {
   "cell_type": "code",
   "execution_count": null,
   "metadata": {
    "hidden": true
   },
   "outputs": [],
   "source": [
    "playerWisedf = eventPassDataLaLiga2019.groupby([\"player.id\"]).agg({\"player.name\": \"first\",\n",
    "                                                                   \"team.name\": \"first\",\n",
    "                                                                   \"type.id\": \"count\",\n",
    "                                                                   \"pass.through_ball\": \"sum\",\n",
    "                                                                   \"pass.shot_assist\": \"sum\",\n",
    "                                                                   \"pass.goal_assist\": \"sum\"})"
   ]
  },
  {
   "cell_type": "code",
   "execution_count": null,
   "metadata": {
    "hidden": true
   },
   "outputs": [],
   "source": [
    "playerMatchMinsdf = eventPassDataLaLiga2019.drop_duplicates(subset=[\"player.id\", \"match_id\"]).groupby([\"player.id\"])\\\n",
    ".agg({\"minsPlayed\": \"sum\"})"
   ]
  },
  {
   "cell_type": "code",
   "execution_count": null,
   "metadata": {
    "hidden": true
   },
   "outputs": [],
   "source": [
    "playerWisedf = pd.concat([playerWisedf, playerMatchMinsdf], axis=1)"
   ]
  },
  {
   "cell_type": "code",
   "execution_count": null,
   "metadata": {
    "hidden": true
   },
   "outputs": [],
   "source": [
    "playerWisedf"
   ]
  },
  {
   "cell_type": "code",
   "execution_count": null,
   "metadata": {
    "hidden": true
   },
   "outputs": [],
   "source": [
    "playerWisedf.rename(columns={\"type.id\": \"totalPasses\",\n",
    "                             \"pass.through_ball\": \"passTB\",\n",
    "                             \"pass.shot_assist\": \"passSA\",\n",
    "                             \"pass.goal_assist\": \"passGA\"},\n",
    "                    inplace=True)"
   ]
  },
  {
   "cell_type": "markdown",
   "metadata": {
    "hidden": true
   },
   "source": [
    "### Calculate Per90"
   ]
  },
  {
   "cell_type": "code",
   "execution_count": null,
   "metadata": {
    "hidden": true
   },
   "outputs": [],
   "source": [
    "per90Cols = [\"totalPasses\", \"passTB\", \"passSA\", \"passGA\"]"
   ]
  },
  {
   "cell_type": "code",
   "execution_count": null,
   "metadata": {
    "hidden": true
   },
   "outputs": [],
   "source": [
    "playerWisedf.columns"
   ]
  },
  {
   "cell_type": "code",
   "execution_count": null,
   "metadata": {
    "hidden": true
   },
   "outputs": [],
   "source": [
    "for col in per90Cols:\n",
    "    playerWisedf[col + \"Per90\"] = playerWisedf[col].divide(playerWisedf[\"minsPlayed\"]).multiply(90)"
   ]
  },
  {
   "cell_type": "code",
   "execution_count": null,
   "metadata": {
    "hidden": true
   },
   "outputs": [],
   "source": [
    "playerWisedf.head()"
   ]
  },
  {
   "cell_type": "markdown",
   "metadata": {
    "hidden": true
   },
   "source": [
    "### Vision Ratings"
   ]
  },
  {
   "cell_type": "markdown",
   "metadata": {
    "hidden": true
   },
   "source": [
    "Using Standardized weights:\n",
    "\n",
    "visionRating =  passTBPer90 * 0.2 + passSAPer90 * 0.3 + passGAPer90 * 0.5"
   ]
  },
  {
   "cell_type": "code",
   "execution_count": null,
   "metadata": {
    "hidden": true
   },
   "outputs": [],
   "source": [
    "playerWisedf[\"visionRating\"] =\\\n",
    "    (playerWisedf[\"passTBPer90\"]*0.2)\\\n",
    "        .add(playerWisedf[\"passSAPer90\"]*0.3)\\\n",
    "        .add(playerWisedf[\"passGAPer90\"]*0.5)"
   ]
  },
  {
   "cell_type": "code",
   "execution_count": null,
   "metadata": {
    "hidden": true
   },
   "outputs": [],
   "source": [
    "playerWisedf.head()"
   ]
  },
  {
   "cell_type": "code",
   "execution_count": null,
   "metadata": {
    "hidden": true
   },
   "outputs": [],
   "source": [
    "playerWisedf[\"visionRating\"].nlargest(10).index"
   ]
  },
  {
   "cell_type": "code",
   "execution_count": null,
   "metadata": {
    "hidden": true
   },
   "outputs": [],
   "source": [
    "playerWisedf.loc[playerWisedf[\"visionRating\"].nlargest(10).index, [\"player.name\", \"team.name\", \"visionRating\"]]"
   ]
  },
  {
   "cell_type": "code",
   "execution_count": null,
   "metadata": {
    "hidden": true
   },
   "outputs": [],
   "source": [
    "playerWisedf.loc[3122]"
   ]
  },
  {
   "cell_type": "code",
   "execution_count": null,
   "metadata": {
    "hidden": true
   },
   "outputs": [],
   "source": [
    "playerWiseFiltereddf = playerWisedf[(playerWisedf[\"minsPlayed\"] > 45)]"
   ]
  },
  {
   "cell_type": "code",
   "execution_count": null,
   "metadata": {
    "hidden": true
   },
   "outputs": [],
   "source": [
    "playerWiseFiltereddf.loc[playerWiseFiltereddf[\"visionRating\"].nlargest(10).index]\\\n",
    "[[\"player.name\", \"team.name\", \"visionRating\"]]"
   ]
  },
  {
   "cell_type": "code",
   "execution_count": null,
   "metadata": {
    "hidden": true
   },
   "outputs": [],
   "source": [
    "from sklearn.preprocessing import MinMaxScaler"
   ]
  },
  {
   "cell_type": "code",
   "execution_count": null,
   "metadata": {
    "hidden": true
   },
   "outputs": [],
   "source": [
    "scaler = MinMaxScaler((1, 10))\n",
    "playerWiseFiltereddf[\"visionRating\"] =\\\n",
    "    scaler.fit_transform(np.array(playerWiseFiltereddf[\"visionRating\"]).reshape(-1, 1))"
   ]
  },
  {
   "cell_type": "code",
   "execution_count": null,
   "metadata": {
    "hidden": true
   },
   "outputs": [],
   "source": [
    "playerWiseFiltereddf[\"visionRating\"].max()"
   ]
  },
  {
   "cell_type": "code",
   "execution_count": null,
   "metadata": {
    "hidden": true
   },
   "outputs": [],
   "source": [
    "playerWiseFiltereddf.loc[playerWiseFiltereddf[\"visionRating\"].nlargest(10).index]\\\n",
    "[[\"player.name\", \"team.name\", \"visionRating\"]]"
   ]
  },
  {
   "cell_type": "markdown",
   "metadata": {
    "hidden": true
   },
   "source": [
    "## Ball Control"
   ]
  },
  {
   "cell_type": "markdown",
   "metadata": {
    "hidden": true
   },
   "source": [
    "1. Carry\n",
    "1. Dispossessed\n",
    "1. Dribble\n",
    "1. Miscontrol"
   ]
  },
  {
   "cell_type": "code",
   "execution_count": null,
   "metadata": {
    "hidden": true
   },
   "outputs": [],
   "source": [
    "eventsDataLaLiga2019 = pd.read_csv(\"../data/matchwise_events_data_updated.csv\")"
   ]
  },
  {
   "cell_type": "code",
   "execution_count": null,
   "metadata": {
    "hidden": true,
    "scrolled": true
   },
   "outputs": [],
   "source": [
    "eventsDataLaLiga2019[[\"type.id\", \"type.name\"]].drop_duplicates()"
   ]
  },
  {
   "cell_type": "markdown",
   "metadata": {
    "hidden": true
   },
   "source": [
    "### Data Prep - Carry"
   ]
  },
  {
   "cell_type": "code",
   "execution_count": null,
   "metadata": {
    "hidden": true,
    "scrolled": true
   },
   "outputs": [],
   "source": [
    "eventsDataLaLiga2019[eventsDataLaLiga2019[\"type.id\"] == 43]"
   ]
  },
  {
   "cell_type": "code",
   "execution_count": null,
   "metadata": {
    "hidden": true
   },
   "outputs": [],
   "source": [
    "carryDataLaLiga1920 = eventsDataLaLiga2019[eventsDataLaLiga2019[\"type.id\"] == 43]"
   ]
  },
  {
   "cell_type": "code",
   "execution_count": null,
   "metadata": {
    "hidden": true
   },
   "outputs": [],
   "source": [
    "carryDataLaLiga1920.groupby([\"player.id\"]).agg({\"player.name\": \"first\",\n",
    "                                                    \"team.name\": \"first\",\n",
    "                                                    \"type.id\": \"count\"})\\\n",
    ".sort_values(\"type.id\", ascending=False)"
   ]
  },
  {
   "cell_type": "code",
   "execution_count": null,
   "metadata": {
    "hidden": true
   },
   "outputs": [],
   "source": [
    "carryPlayerData = carryDataLaLiga1920.groupby([\"player.id\"]).agg({\"player.name\": \"first\",\n",
    "                                                                  \"team.name\": \"first\",\n",
    "                                                                  \"type.id\": \"count\"})"
   ]
  },
  {
   "cell_type": "code",
   "execution_count": null,
   "metadata": {
    "hidden": true
   },
   "outputs": [],
   "source": [
    "carryPlayerData.rename(columns={\"type.id\": \"totCarry\"}, inplace=True)"
   ]
  },
  {
   "cell_type": "code",
   "execution_count": null,
   "metadata": {
    "hidden": true
   },
   "outputs": [],
   "source": [
    "pd.concat([carryPlayerData, playerMatchMinsdf], axis=1)"
   ]
  },
  {
   "cell_type": "code",
   "execution_count": null,
   "metadata": {
    "hidden": true
   },
   "outputs": [],
   "source": [
    "pd.merge(carryPlayerData, playerMatchMinsdf, how=\"left\", left_index=True, right_index=True)"
   ]
  },
  {
   "cell_type": "code",
   "execution_count": null,
   "metadata": {
    "hidden": true
   },
   "outputs": [],
   "source": [
    "carryPlayerData = pd.merge(carryPlayerData, playerMatchMinsdf, how=\"left\",\n",
    "                           left_index=True, right_index=True)"
   ]
  },
  {
   "cell_type": "code",
   "execution_count": null,
   "metadata": {
    "hidden": true
   },
   "outputs": [],
   "source": [
    "carryPlayerData[\"totCarryPer90\"] = carryPlayerData[\"totCarry\"].divide(carryPlayerData[\"minsPlayed\"])*90"
   ]
  },
  {
   "cell_type": "code",
   "execution_count": null,
   "metadata": {
    "hidden": true
   },
   "outputs": [],
   "source": [
    "carryPlayerData.head()"
   ]
  },
  {
   "cell_type": "markdown",
   "metadata": {
    "hidden": true
   },
   "source": [
    "### Data Prep - Dispossessed"
   ]
  },
  {
   "cell_type": "code",
   "execution_count": null,
   "metadata": {
    "hidden": true
   },
   "outputs": [],
   "source": [
    "eventsDataLaLiga2019[eventsDataLaLiga2019[\"type.id\"] == 3].head()"
   ]
  },
  {
   "cell_type": "code",
   "execution_count": null,
   "metadata": {
    "hidden": true
   },
   "outputs": [],
   "source": [
    "eventsDataLaLiga2019[(eventsDataLaLiga2019[\"type.id\"] == 3)\n",
    "                     & (eventsDataLaLiga2019[\"player.id\"].isnull())]"
   ]
  },
  {
   "cell_type": "code",
   "execution_count": null,
   "metadata": {
    "hidden": true
   },
   "outputs": [],
   "source": [
    "dispDataLaLiga1920 = eventsDataLaLiga2019[eventsDataLaLiga2019[\"type.id\"] == 3]"
   ]
  },
  {
   "cell_type": "code",
   "execution_count": null,
   "metadata": {
    "hidden": true
   },
   "outputs": [],
   "source": [
    "dispDataLaLiga1920.groupby([\"player.id\"]).agg({\"player.name\": \"first\",\n",
    "                                               \"team.name\": \"first\",\n",
    "                                               \"type.id\": \"count\"})\\\n",
    ".sort_values(\"type.id\", ascending=False)"
   ]
  },
  {
   "cell_type": "code",
   "execution_count": null,
   "metadata": {
    "hidden": true
   },
   "outputs": [],
   "source": [
    "dispPlayerData = dispDataLaLiga1920.groupby([\"player.id\"]).agg({\"player.name\": \"first\",\n",
    "                                                                  \"team.name\": \"first\",\n",
    "                                                                  \"type.id\": \"count\"})"
   ]
  },
  {
   "cell_type": "code",
   "execution_count": null,
   "metadata": {
    "hidden": true
   },
   "outputs": [],
   "source": [
    "dispPlayerData.rename(columns={\"type.id\": \"totDisp\"}, inplace=True)"
   ]
  },
  {
   "cell_type": "code",
   "execution_count": null,
   "metadata": {
    "hidden": true
   },
   "outputs": [],
   "source": [
    "pd.concat([dispPlayerData, playerMatchMinsdf], axis=1)"
   ]
  },
  {
   "cell_type": "code",
   "execution_count": null,
   "metadata": {
    "hidden": true
   },
   "outputs": [],
   "source": [
    "pd.merge(dispPlayerData, playerMatchMinsdf, how=\"left\", left_index=True, right_index=True)"
   ]
  },
  {
   "cell_type": "code",
   "execution_count": null,
   "metadata": {
    "hidden": true
   },
   "outputs": [],
   "source": [
    "dispPlayerData = pd.merge(dispPlayerData, playerMatchMinsdf, how=\"left\",\n",
    "                          left_index=True, right_index=True)"
   ]
  },
  {
   "cell_type": "code",
   "execution_count": null,
   "metadata": {
    "hidden": true
   },
   "outputs": [],
   "source": [
    "dispPlayerData[\"totDispPer90\"] = dispPlayerData[\"totDisp\"].divide(dispPlayerData[\"minsPlayed\"])*90"
   ]
  },
  {
   "cell_type": "code",
   "execution_count": null,
   "metadata": {
    "hidden": true
   },
   "outputs": [],
   "source": [
    "carryPlayerData.head()"
   ]
  },
  {
   "cell_type": "code",
   "execution_count": null,
   "metadata": {
    "hidden": true
   },
   "outputs": [],
   "source": [
    "dispPlayerData.drop(columns=['player.name', 'team.name', 'minsPlayed'], inplace=True)"
   ]
  },
  {
   "cell_type": "markdown",
   "metadata": {
    "hidden": true
   },
   "source": [
    "### Data Prep - Dribble"
   ]
  },
  {
   "cell_type": "code",
   "execution_count": null,
   "metadata": {
    "hidden": true
   },
   "outputs": [],
   "source": [
    "eventsDataLaLiga2019[eventsDataLaLiga2019[\"type.id\"] == 14].head()"
   ]
  },
  {
   "cell_type": "code",
   "execution_count": null,
   "metadata": {
    "hidden": true
   },
   "outputs": [],
   "source": [
    "dribbleDataLaLiga1920 = eventsDataLaLiga2019[eventsDataLaLiga2019[\"type.id\"] == 14]"
   ]
  },
  {
   "cell_type": "code",
   "execution_count": null,
   "metadata": {
    "hidden": true
   },
   "outputs": [],
   "source": [
    "dribbleDataLaLiga1920.groupby([\"player.id\"]).agg({\"player.name\": \"first\",\n",
    "                                               \"team.name\": \"first\",\n",
    "                                               \"type.id\": \"count\"})\\\n",
    ".sort_values(\"type.id\", ascending=False)"
   ]
  },
  {
   "cell_type": "code",
   "execution_count": null,
   "metadata": {
    "hidden": true
   },
   "outputs": [],
   "source": [
    "dribblePlayerData = dribbleDataLaLiga1920.groupby([\"player.id\"]).agg({\"player.name\": \"first\",\n",
    "                                                                  \"team.name\": \"first\",\n",
    "                                                                  \"type.id\": \"count\"})"
   ]
  },
  {
   "cell_type": "code",
   "execution_count": null,
   "metadata": {
    "hidden": true
   },
   "outputs": [],
   "source": [
    "dribblePlayerData.rename(columns={\"type.id\": \"totDribble\"}, inplace=True)"
   ]
  },
  {
   "cell_type": "code",
   "execution_count": null,
   "metadata": {
    "hidden": true
   },
   "outputs": [],
   "source": [
    "pd.merge(dribblePlayerData, playerMatchMinsdf, how=\"left\", left_index=True, right_index=True)"
   ]
  },
  {
   "cell_type": "code",
   "execution_count": null,
   "metadata": {
    "hidden": true
   },
   "outputs": [],
   "source": [
    "dribblePlayerData = pd.merge(dribblePlayerData, playerMatchMinsdf, how=\"left\", left_index=True, right_index=True)"
   ]
  },
  {
   "cell_type": "code",
   "execution_count": null,
   "metadata": {
    "hidden": true
   },
   "outputs": [],
   "source": [
    "dribblePlayerData[\"totDribblePer90\"] = dribblePlayerData[\"totDribble\"].divide(dribblePlayerData[\"minsPlayed\"])*90"
   ]
  },
  {
   "cell_type": "code",
   "execution_count": null,
   "metadata": {
    "hidden": true
   },
   "outputs": [],
   "source": [
    "dribblePlayerData.loc[dribblePlayerData[\"totDribblePer90\"].nlargest(10).index,\n",
    "                      [\"player.name\", \"team.name\", \"totDribblePer90\"]]"
   ]
  },
  {
   "cell_type": "code",
   "execution_count": null,
   "metadata": {
    "hidden": true
   },
   "outputs": [],
   "source": [
    "dribblePlayerData.drop(columns=['player.name', 'team.name', 'minsPlayed'], inplace=True)"
   ]
  },
  {
   "cell_type": "markdown",
   "metadata": {
    "hidden": true
   },
   "source": [
    "### Data Prep - Miscontrol"
   ]
  },
  {
   "cell_type": "code",
   "execution_count": null,
   "metadata": {
    "hidden": true
   },
   "outputs": [],
   "source": [
    "eventsDataLaLiga2019[eventsDataLaLiga2019[\"type.id\"] == 38].head()"
   ]
  },
  {
   "cell_type": "code",
   "execution_count": null,
   "metadata": {
    "hidden": true
   },
   "outputs": [],
   "source": [
    "miscontrolDataLaLiga1920 = eventsDataLaLiga2019[eventsDataLaLiga2019[\"type.id\"] == 38]"
   ]
  },
  {
   "cell_type": "code",
   "execution_count": null,
   "metadata": {
    "hidden": true
   },
   "outputs": [],
   "source": [
    "miscontrolDataLaLiga1920.groupby([\"player.id\"]).agg({\"player.name\": \"first\",\n",
    "                                               \"team.name\": \"first\",\n",
    "                                               \"type.id\": \"count\"})\\\n",
    ".sort_values(\"type.id\", ascending=False)"
   ]
  },
  {
   "cell_type": "code",
   "execution_count": null,
   "metadata": {
    "hidden": true
   },
   "outputs": [],
   "source": [
    "miscontrolPlayerData = miscontrolDataLaLiga1920.groupby([\"player.id\"]).agg({\"player.name\": \"first\",\n",
    "                                                                  \"team.name\": \"first\",\n",
    "                                                                  \"type.id\": \"count\"})"
   ]
  },
  {
   "cell_type": "code",
   "execution_count": null,
   "metadata": {
    "hidden": true
   },
   "outputs": [],
   "source": [
    "miscontrolPlayerData.rename(columns={\"type.id\": \"totMiscontrol\"}, inplace=True)"
   ]
  },
  {
   "cell_type": "code",
   "execution_count": null,
   "metadata": {
    "hidden": true
   },
   "outputs": [],
   "source": [
    "pd.merge(miscontrolPlayerData, playerMatchMinsdf, how=\"left\", left_index=True, right_index=True)"
   ]
  },
  {
   "cell_type": "code",
   "execution_count": null,
   "metadata": {
    "hidden": true
   },
   "outputs": [],
   "source": [
    "miscontrolPlayerData = pd.merge(miscontrolPlayerData, playerMatchMinsdf,\n",
    "                                how=\"left\",\n",
    "                                left_index=True, right_index=True)"
   ]
  },
  {
   "cell_type": "code",
   "execution_count": null,
   "metadata": {
    "hidden": true
   },
   "outputs": [],
   "source": [
    "miscontrolPlayerData[\"totMiscontrolPer90\"] =\\\n",
    "    miscontrolPlayerData[\"totMiscontrol\"].divide(miscontrolPlayerData[\"minsPlayed\"])*90"
   ]
  },
  {
   "cell_type": "code",
   "execution_count": null,
   "metadata": {
    "hidden": true
   },
   "outputs": [],
   "source": [
    "miscontrolPlayerData.loc[miscontrolPlayerData[\"totMiscontrolPer90\"].nsmallest(10).index,\n",
    "                         [\"player.name\", \"team.name\", \"totMiscontrolPer90\"]]"
   ]
  },
  {
   "cell_type": "code",
   "execution_count": null,
   "metadata": {
    "hidden": true
   },
   "outputs": [],
   "source": [
    "miscontrolPlayerData.columns"
   ]
  },
  {
   "cell_type": "code",
   "execution_count": null,
   "metadata": {
    "hidden": true
   },
   "outputs": [],
   "source": [
    "miscontrolPlayerData.drop(columns=['player.name', 'team.name', 'minsPlayed'], inplace=True)"
   ]
  },
  {
   "cell_type": "markdown",
   "metadata": {
    "hidden": true
   },
   "source": [
    "### Ball Control Ratings"
   ]
  },
  {
   "cell_type": "code",
   "execution_count": null,
   "metadata": {
    "hidden": true
   },
   "outputs": [],
   "source": [
    "\"\"\" Get Ball Control Data \"\"\"\n",
    "ballControlData = pd.merge(carryPlayerData, dispPlayerData,\n",
    "                           how=\"outer\", left_index=True, right_index=True)\n",
    "ballControlData = pd.merge(ballControlData, dribblePlayerData,\n",
    "                           how=\"outer\", left_index=True, right_index=True)\n",
    "ballControlData = pd.merge(ballControlData, miscontrolPlayerData,\n",
    "                           how=\"outer\", left_index=True, right_index=True)"
   ]
  },
  {
   "cell_type": "code",
   "execution_count": null,
   "metadata": {
    "hidden": true
   },
   "outputs": [],
   "source": [
    "ballControlData.info()"
   ]
  },
  {
   "cell_type": "markdown",
   "metadata": {
    "hidden": true
   },
   "source": [
    "Using Non-Standardized weights:\n",
    "\n",
    "bcRating = (totCarryPer90 * 2) + (totDispPer90 * -1) + (totDribblePer90 * 1) + (totMiscontrolPer90 * -2)"
   ]
  },
  {
   "cell_type": "code",
   "execution_count": null,
   "metadata": {
    "hidden": true
   },
   "outputs": [],
   "source": [
    "ballControlData[\"bcRating\"] =\\\n",
    "    (ballControlData[\"totCarryPer90\"]*2)\\\n",
    "        .add(ballControlData[\"totDispPer90\"]*-1)\\\n",
    "        .add(ballControlData[\"totDribblePer90\"]*1)\\\n",
    "        .add(ballControlData[\"totMiscontrolPer90\"]*-2)"
   ]
  },
  {
   "cell_type": "code",
   "execution_count": null,
   "metadata": {
    "hidden": true,
    "scrolled": true
   },
   "outputs": [],
   "source": [
    "ballControlData.loc[ballControlData[\"bcRating\"].nlargest(20).index]\\\n",
    "[[\"player.name\", \"team.name\", \"bcRating\"]]"
   ]
  },
  {
   "cell_type": "code",
   "execution_count": null,
   "metadata": {
    "hidden": true
   },
   "outputs": [],
   "source": [
    "scaler = MinMaxScaler((1, 10))\n",
    "ballControlData[\"bcRating\"] =\\\n",
    "    scaler.fit_transform(np.array(ballControlData[\"bcRating\"]).reshape(-1, 1))"
   ]
  },
  {
   "cell_type": "code",
   "execution_count": null,
   "metadata": {
    "hidden": true
   },
   "outputs": [],
   "source": [
    "ballControlData"
   ]
  },
  {
   "cell_type": "code",
   "execution_count": null,
   "metadata": {
    "hidden": true
   },
   "outputs": [],
   "source": [
    "ballControlData[[\"totCarryPer90\", \"totDispPer90\", \"totDribblePer90\", \"totMiscontrolPer90\"]]=\\\n",
    "    ballControlData[[\"totCarryPer90\", \"totDispPer90\", \"totDribblePer90\", \"totMiscontrolPer90\"]].fillna(0)"
   ]
  },
  {
   "cell_type": "code",
   "execution_count": null,
   "metadata": {
    "hidden": true
   },
   "outputs": [],
   "source": [
    "ballControlData.head()"
   ]
  },
  {
   "cell_type": "code",
   "execution_count": null,
   "metadata": {
    "hidden": true
   },
   "outputs": [],
   "source": [
    "ballControlData[\"bcRating\"] =\\\n",
    "    (ballControlData[\"totCarryPer90\"]*2)\\\n",
    "        .add(ballControlData[\"totDispPer90\"]*-1)\\\n",
    "        .add(ballControlData[\"totDribblePer90\"]*1)\\\n",
    "        .add(ballControlData[\"totMiscontrolPer90\"]*-2)"
   ]
  },
  {
   "cell_type": "code",
   "execution_count": null,
   "metadata": {
    "hidden": true
   },
   "outputs": [],
   "source": [
    "ballControlData[\"bcRating\"] =\\\n",
    "    scaler.fit_transform(np.array(ballControlData[\"bcRating\"]).reshape(-1, 1))"
   ]
  },
  {
   "cell_type": "code",
   "execution_count": null,
   "metadata": {
    "hidden": true
   },
   "outputs": [],
   "source": [
    "ballControlData.loc[ballControlData[\"bcRating\"].nlargest(20).index]\\\n",
    "[[\"player.name\", \"team.name\", \"bcRating\"]]"
   ]
  },
  {
   "cell_type": "markdown",
   "metadata": {
    "hidden": true
   },
   "source": [
    "## Creativity"
   ]
  },
  {
   "cell_type": "markdown",
   "metadata": {
    "hidden": true
   },
   "source": [
    "1. Carry\n",
    "1. Dribble\n",
    "1. Through Ball\n",
    "1. Shot Assist\n",
    "1. Goal Assist"
   ]
  },
  {
   "cell_type": "markdown",
   "metadata": {
    "hidden": true
   },
   "source": [
    "### Get Creativity Data"
   ]
  },
  {
   "cell_type": "code",
   "execution_count": null,
   "metadata": {
    "hidden": true
   },
   "outputs": [],
   "source": [
    "carryPlayerData.drop(columns=['player.name', 'team.name', 'minsPlayed'], inplace=True)"
   ]
  },
  {
   "cell_type": "code",
   "execution_count": null,
   "metadata": {
    "hidden": true
   },
   "outputs": [],
   "source": [
    "\"\"\" Get Creativity Data \"\"\"\n",
    "creativityData = pd.merge(playerWisedf, dribblePlayerData,\n",
    "                           how=\"outer\", left_index=True, right_index=True)\n",
    "creativityData = pd.merge(creativityData, carryPlayerData,\n",
    "                           how=\"outer\", left_index=True, right_index=True)"
   ]
  },
  {
   "cell_type": "code",
   "execution_count": null,
   "metadata": {
    "hidden": true
   },
   "outputs": [],
   "source": [
    "creativityData.info()"
   ]
  },
  {
   "cell_type": "markdown",
   "metadata": {
    "hidden": true
   },
   "source": [
    "### Creativity Ratings"
   ]
  },
  {
   "cell_type": "markdown",
   "metadata": {
    "hidden": true
   },
   "source": [
    "Using Standardized weights:\n",
    "\n",
    "bcRating = (totCarryPer90 * 0.05) + (passTBPer90 * 0.2) + (totDribblePer90 * 0.1)  + (passSAPer90 * 0.25) + (passGAPer90 * 0.4)"
   ]
  },
  {
   "cell_type": "code",
   "execution_count": null,
   "metadata": {
    "hidden": true
   },
   "outputs": [],
   "source": [
    "creativityData[\"creativityRating\"] =\\\n",
    "    (creativityData[\"totCarryPer90\"]*0.05)\\\n",
    "        .add(creativityData[\"passTBPer90\"]*0.2)\\\n",
    "        .add(creativityData[\"totDribblePer90\"]*0.1)\\\n",
    "        .add(creativityData[\"passSAPer90\"]*0.25)\\\n",
    "        .add(creativityData[\"passGAPer90\"]*0.4)"
   ]
  },
  {
   "cell_type": "code",
   "execution_count": null,
   "metadata": {
    "hidden": true,
    "scrolled": true
   },
   "outputs": [],
   "source": [
    "creativityData.loc[creativityData[\"creativityRating\"].nlargest(10).index]\\\n",
    "[[\"player.name\", \"team.name\", \"creativityRating\"]]"
   ]
  },
  {
   "cell_type": "code",
   "execution_count": null,
   "metadata": {
    "hidden": true
   },
   "outputs": [],
   "source": [
    "creativityData[\"creativityRating\"] =\\\n",
    "    scaler.fit_transform(np.array(creativityData[\"creativityRating\"]).reshape(-1, 1))"
   ]
  },
  {
   "cell_type": "code",
   "execution_count": null,
   "metadata": {
    "hidden": true
   },
   "outputs": [],
   "source": [
    "creativityData.isnull().sum()"
   ]
  },
  {
   "cell_type": "code",
   "execution_count": null,
   "metadata": {
    "hidden": true
   },
   "outputs": [],
   "source": [
    "creativityData[[\"totCarryPer90\", \"passTBPer90\", \"totDribblePer90\", \"passSAPer90\", \"passGAPer90\"]] =\\\n",
    "    creativityData[[\"totCarryPer90\", \"passTBPer90\", \"totDribblePer90\", \"passSAPer90\", \"passGAPer90\"]].fillna(0)"
   ]
  },
  {
   "cell_type": "code",
   "execution_count": null,
   "metadata": {
    "hidden": true
   },
   "outputs": [],
   "source": [
    "creativityData[\"creativityRating\"] =\\\n",
    "    (creativityData[\"totCarryPer90\"]*0.05)\\\n",
    "        .add(creativityData[\"passTBPer90\"]*0.2)\\\n",
    "        .add(creativityData[\"totDribblePer90\"]*0.1)\\\n",
    "        .add(creativityData[\"passSAPer90\"]*0.25)\\\n",
    "        .add(creativityData[\"passGAPer90\"]*0.4)"
   ]
  },
  {
   "cell_type": "code",
   "execution_count": null,
   "metadata": {
    "hidden": true
   },
   "outputs": [],
   "source": [
    "creativityData[\"creativityRating\"] =\\\n",
    "    scaler.fit_transform(np.array(creativityData[\"creativityRating\"]).reshape(-1, 1))"
   ]
  },
  {
   "cell_type": "code",
   "execution_count": null,
   "metadata": {
    "hidden": true
   },
   "outputs": [],
   "source": [
    "creativityData.loc[creativityData[\"creativityRating\"].nlargest(10).index]\\\n",
    "[[\"player.name\", \"team.name\", \"creativityRating\"]]"
   ]
  },
  {
   "cell_type": "markdown",
   "metadata": {
    "hidden": true
   },
   "source": [
    "## Passing Ability"
   ]
  },
  {
   "cell_type": "markdown",
   "metadata": {
    "hidden": true
   },
   "source": [
    "1. Accuracy\n",
    "1. Ground Pass Accuracy\n",
    "1. Low Pass Accuracy\n",
    "1. High Pass Accuracy\n",
    "1. Miscommunication\n",
    "1. Under Pressure Accuracy\n",
    "1. Through Ball Accuracy"
   ]
  },
  {
   "cell_type": "markdown",
   "metadata": {
    "hidden": true
   },
   "source": [
    "### Total Passing Data"
   ]
  },
  {
   "cell_type": "code",
   "execution_count": null,
   "metadata": {
    "hidden": true
   },
   "outputs": [],
   "source": [
    "eventPassDataLaLiga2019.groupby([\"player.id\"]).agg({\"player.name\": \"first\",\n",
    "                                                    \"team.name\": \"first\",\n",
    "                                                    \"type.id\": \"count\",\n",
    "                                                    \"pass.outcome.id\": lambda x: (x.isnull()).sum()})"
   ]
  },
  {
   "cell_type": "code",
   "execution_count": null,
   "metadata": {
    "hidden": true
   },
   "outputs": [],
   "source": [
    "totPassData = eventPassDataLaLiga2019.groupby([\"player.id\"]).agg({\"player.name\": \"first\",\n",
    "                                                    \"team.name\": \"first\",\n",
    "                                                    \"type.id\": \"count\",\n",
    "                                                    \"pass.outcome.id\": lambda x: (x.isnull()).sum()})"
   ]
  },
  {
   "cell_type": "code",
   "execution_count": null,
   "metadata": {
    "hidden": true
   },
   "outputs": [],
   "source": [
    "totPassData.rename(columns={\"type.id\": \"totPasses\",\n",
    "                            \"pass.outcome.id\": \"succPasses\"},\n",
    "                  inplace=True)"
   ]
  },
  {
   "cell_type": "code",
   "execution_count": null,
   "metadata": {
    "hidden": true
   },
   "outputs": [],
   "source": [
    "totPassData[\"passAccuracy\"] = totPassData[\"succPasses\"].divide(totPassData[\"totPasses\"])"
   ]
  },
  {
   "cell_type": "code",
   "execution_count": null,
   "metadata": {
    "hidden": true
   },
   "outputs": [],
   "source": [
    "totPassData.head()"
   ]
  },
  {
   "cell_type": "markdown",
   "metadata": {
    "hidden": true
   },
   "source": [
    "#### Accuracy Distribution"
   ]
  },
  {
   "cell_type": "code",
   "execution_count": null,
   "metadata": {
    "hidden": true
   },
   "outputs": [],
   "source": [
    "binList = []\n",
    "for i in range(0, 101, 10):\n",
    "    binList.append(i/100)"
   ]
  },
  {
   "cell_type": "code",
   "execution_count": null,
   "metadata": {
    "hidden": true
   },
   "outputs": [],
   "source": [
    "binList"
   ]
  },
  {
   "cell_type": "code",
   "execution_count": null,
   "metadata": {
    "hidden": true
   },
   "outputs": [],
   "source": [
    "[i/100 for i in range(0, 101, 10)]"
   ]
  },
  {
   "cell_type": "code",
   "execution_count": null,
   "metadata": {
    "hidden": true
   },
   "outputs": [],
   "source": [
    "totPassData[\"passAccuracy\"].hist(bins=[i/100 for i in range(0, 101, 10)])"
   ]
  },
  {
   "cell_type": "markdown",
   "metadata": {
    "hidden": true
   },
   "source": [
    "### Ground Pass Data"
   ]
  },
  {
   "cell_type": "code",
   "execution_count": null,
   "metadata": {
    "hidden": true
   },
   "outputs": [],
   "source": [
    "eventPassDataLaLiga2019[[\"pass.height.id\", \"pass.height.name\"]].drop_duplicates()"
   ]
  },
  {
   "cell_type": "code",
   "execution_count": null,
   "metadata": {
    "hidden": true
   },
   "outputs": [],
   "source": [
    "gpData = eventPassDataLaLiga2019[eventPassDataLaLiga2019[\"pass.height.id\"] == 1]"
   ]
  },
  {
   "cell_type": "code",
   "execution_count": null,
   "metadata": {
    "hidden": true,
    "scrolled": true
   },
   "outputs": [],
   "source": [
    "gpData.groupby([\"player.id\"]).agg({\"type.id\": \"count\",\n",
    "                                   \"pass.outcome.id\": lambda x: (x.isnull()).sum()})"
   ]
  },
  {
   "cell_type": "code",
   "execution_count": null,
   "metadata": {
    "hidden": true
   },
   "outputs": [],
   "source": [
    "gpPlayerData = gpData.groupby([\"player.id\"]).agg({\"type.id\": \"count\",\n",
    "                                                  \"pass.outcome.id\": lambda x: (x.isnull()).sum()})"
   ]
  },
  {
   "cell_type": "code",
   "execution_count": null,
   "metadata": {
    "hidden": true
   },
   "outputs": [],
   "source": [
    "gpPlayerData.rename(columns={\"type.id\": \"totGPasses\",\n",
    "                             \"pass.outcome.id\": \"succGPasses\"},\n",
    "                    inplace=True)"
   ]
  },
  {
   "cell_type": "code",
   "execution_count": null,
   "metadata": {
    "hidden": true
   },
   "outputs": [],
   "source": [
    "gpPlayerData[\"gpAccuracy\"] = gpPlayerData[\"succGPasses\"].divide(gpPlayerData[\"totGPasses\"])"
   ]
  },
  {
   "cell_type": "markdown",
   "metadata": {
    "hidden": true
   },
   "source": [
    "#### Accuracy Distribution"
   ]
  },
  {
   "cell_type": "code",
   "execution_count": null,
   "metadata": {
    "hidden": true
   },
   "outputs": [],
   "source": [
    "gpPlayerData[\"gpAccuracy\"].hist(bins=[i/100 for i in range(0, 101, 10)])"
   ]
  },
  {
   "cell_type": "markdown",
   "metadata": {
    "hidden": true
   },
   "source": [
    "### Low Pass Data"
   ]
  },
  {
   "cell_type": "code",
   "execution_count": null,
   "metadata": {
    "hidden": true
   },
   "outputs": [],
   "source": [
    "lpData = eventPassDataLaLiga2019[eventPassDataLaLiga2019[\"pass.height.id\"] == 2]"
   ]
  },
  {
   "cell_type": "code",
   "execution_count": null,
   "metadata": {
    "hidden": true
   },
   "outputs": [],
   "source": [
    "lpData.groupby([\"player.id\"]).agg({\"type.id\": \"count\",\n",
    "                                   \"pass.outcome.id\": lambda x: (x.isnull()).sum()})"
   ]
  },
  {
   "cell_type": "code",
   "execution_count": null,
   "metadata": {
    "hidden": true
   },
   "outputs": [],
   "source": [
    "lpPlayerData = lpData.groupby([\"player.id\"]).agg({\"type.id\": \"count\",\n",
    "                                                  \"pass.outcome.id\": lambda x: (x.isnull()).sum()})"
   ]
  },
  {
   "cell_type": "code",
   "execution_count": null,
   "metadata": {
    "hidden": true
   },
   "outputs": [],
   "source": [
    "lpPlayerData.rename(columns={\"type.id\": \"totLPasses\",\n",
    "                             \"pass.outcome.id\": \"succLPasses\"},\n",
    "                    inplace=True)"
   ]
  },
  {
   "cell_type": "code",
   "execution_count": null,
   "metadata": {
    "hidden": true
   },
   "outputs": [],
   "source": [
    "lpPlayerData[\"lpAccuracy\"] = lpPlayerData[\"succLPasses\"].divide(lpPlayerData[\"totLPasses\"])"
   ]
  },
  {
   "cell_type": "code",
   "execution_count": null,
   "metadata": {
    "hidden": true
   },
   "outputs": [],
   "source": [
    "lpPlayerData"
   ]
  },
  {
   "cell_type": "markdown",
   "metadata": {
    "hidden": true
   },
   "source": [
    "#### Accuracy Distribution"
   ]
  },
  {
   "cell_type": "code",
   "execution_count": null,
   "metadata": {
    "hidden": true
   },
   "outputs": [],
   "source": [
    "lpPlayerData[\"lpAccuracy\"].hist(bins=[i/100 for i in range(0, 101, 10)])"
   ]
  },
  {
   "cell_type": "markdown",
   "metadata": {
    "hidden": true
   },
   "source": [
    "### High Pass Data"
   ]
  },
  {
   "cell_type": "code",
   "execution_count": null,
   "metadata": {
    "hidden": true
   },
   "outputs": [],
   "source": [
    "hpData = eventPassDataLaLiga2019[eventPassDataLaLiga2019[\"pass.height.id\"] == 3]"
   ]
  },
  {
   "cell_type": "code",
   "execution_count": null,
   "metadata": {
    "hidden": true
   },
   "outputs": [],
   "source": [
    "hpData.groupby([\"player.id\"]).agg({\"type.id\": \"count\",\n",
    "                                   \"pass.outcome.id\": lambda x: (x.isnull()).sum()})"
   ]
  },
  {
   "cell_type": "code",
   "execution_count": null,
   "metadata": {
    "hidden": true
   },
   "outputs": [],
   "source": [
    "hpPlayerData = hpData.groupby([\"player.id\"]).agg({\"type.id\": \"count\",\n",
    "                                                  \"pass.outcome.id\": lambda x: (x.isnull()).sum()})"
   ]
  },
  {
   "cell_type": "code",
   "execution_count": null,
   "metadata": {
    "hidden": true
   },
   "outputs": [],
   "source": [
    "hpPlayerData.rename(columns={\"type.id\": \"totHPasses\",\n",
    "                             \"pass.outcome.id\": \"succHPasses\"},\n",
    "                    inplace=True)"
   ]
  },
  {
   "cell_type": "code",
   "execution_count": null,
   "metadata": {
    "hidden": true
   },
   "outputs": [],
   "source": [
    "hpPlayerData[\"hpAccuracy\"] = hpPlayerData[\"succHPasses\"].divide(hpPlayerData[\"totHPasses\"])"
   ]
  },
  {
   "cell_type": "code",
   "execution_count": null,
   "metadata": {
    "hidden": true
   },
   "outputs": [],
   "source": [
    "hpPlayerData"
   ]
  },
  {
   "cell_type": "markdown",
   "metadata": {
    "hidden": true
   },
   "source": [
    "#### Accuracy Distribution"
   ]
  },
  {
   "cell_type": "code",
   "execution_count": null,
   "metadata": {
    "hidden": true
   },
   "outputs": [],
   "source": [
    "hpPlayerData[\"hpAccuracy\"].hist(bins=[i/100 for i in range(0, 101, 10)])"
   ]
  },
  {
   "cell_type": "markdown",
   "metadata": {
    "hidden": true
   },
   "source": [
    "### Under Pressure Data"
   ]
  },
  {
   "cell_type": "code",
   "execution_count": null,
   "metadata": {
    "hidden": true,
    "scrolled": true
   },
   "outputs": [],
   "source": [
    "eventPassDataLaLiga2019[eventPassDataLaLiga2019[\"under_pressure\"].notnull()]"
   ]
  },
  {
   "cell_type": "code",
   "execution_count": null,
   "metadata": {
    "hidden": true
   },
   "outputs": [],
   "source": [
    "upData = eventPassDataLaLiga2019[eventPassDataLaLiga2019[\"under_pressure\"].notnull()]"
   ]
  },
  {
   "cell_type": "code",
   "execution_count": null,
   "metadata": {
    "hidden": true
   },
   "outputs": [],
   "source": [
    "upData.groupby([\"player.id\"]).agg({\"type.id\": \"count\",\n",
    "                                   \"pass.outcome.id\": lambda x: (x.isnull()).sum()})"
   ]
  },
  {
   "cell_type": "code",
   "execution_count": null,
   "metadata": {
    "hidden": true
   },
   "outputs": [],
   "source": [
    "upPlayerData = upData.groupby([\"player.id\"]).agg({\"type.id\": \"count\",\n",
    "                                                  \"pass.outcome.id\": lambda x: (x.isnull()).sum()})"
   ]
  },
  {
   "cell_type": "code",
   "execution_count": null,
   "metadata": {
    "hidden": true
   },
   "outputs": [],
   "source": [
    "upPlayerData.rename(columns={\"type.id\": \"totPassesUP\",\n",
    "                             \"pass.outcome.id\": \"succPassesUP\"},\n",
    "                    inplace=True)"
   ]
  },
  {
   "cell_type": "code",
   "execution_count": null,
   "metadata": {
    "hidden": true
   },
   "outputs": [],
   "source": [
    "upPlayerData[\"upAccuracy\"] =\\\n",
    "    upPlayerData[\"succPassesUP\"].divide(upPlayerData[\"totPassesUP\"])"
   ]
  },
  {
   "cell_type": "markdown",
   "metadata": {
    "hidden": true
   },
   "source": [
    "#### Accuracy Distribution"
   ]
  },
  {
   "cell_type": "code",
   "execution_count": null,
   "metadata": {
    "hidden": true
   },
   "outputs": [],
   "source": [
    "upPlayerData[\"upAccuracy\"].hist(bins=[i/100 for i in range(0, 101, 10)])"
   ]
  },
  {
   "cell_type": "markdown",
   "metadata": {
    "hidden": true
   },
   "source": [
    "### Through Ball Data"
   ]
  },
  {
   "cell_type": "code",
   "execution_count": null,
   "metadata": {
    "hidden": true,
    "scrolled": true
   },
   "outputs": [],
   "source": [
    "eventPassDataLaLiga2019[eventPassDataLaLiga2019[\"pass.through_ball\"].notnull()]"
   ]
  },
  {
   "cell_type": "code",
   "execution_count": null,
   "metadata": {
    "hidden": true
   },
   "outputs": [],
   "source": [
    "tbData = eventPassDataLaLiga2019[eventPassDataLaLiga2019[\"pass.through_ball\"].notnull()]"
   ]
  },
  {
   "cell_type": "code",
   "execution_count": null,
   "metadata": {
    "hidden": true
   },
   "outputs": [],
   "source": [
    "tbData.groupby([\"player.id\"]).agg({\"type.id\": \"count\",\n",
    "                                   \"pass.outcome.id\": lambda x: (x.isnull()).sum()})"
   ]
  },
  {
   "cell_type": "code",
   "execution_count": null,
   "metadata": {
    "hidden": true
   },
   "outputs": [],
   "source": [
    "tbPlayerData = tbData.groupby([\"player.id\"]).agg({\"type.id\": \"count\",\n",
    "                                   \"pass.outcome.id\": lambda x: (x.isnull()).sum()})"
   ]
  },
  {
   "cell_type": "code",
   "execution_count": null,
   "metadata": {
    "hidden": true
   },
   "outputs": [],
   "source": [
    "tbPlayerData.rename(columns={\"type.id\": \"totPassesTB\",\n",
    "                             \"pass.outcome.id\": \"succPassesTB\"},\n",
    "                    inplace=True)"
   ]
  },
  {
   "cell_type": "code",
   "execution_count": null,
   "metadata": {
    "hidden": true
   },
   "outputs": [],
   "source": [
    "tbPlayerData[\"tbAccuracy\"] =\\\n",
    "    tbPlayerData[\"succPassesTB\"].divide(tbPlayerData[\"totPassesTB\"])"
   ]
  },
  {
   "cell_type": "markdown",
   "metadata": {
    "hidden": true
   },
   "source": [
    "#### Accuracy Distribution"
   ]
  },
  {
   "cell_type": "code",
   "execution_count": null,
   "metadata": {
    "hidden": true
   },
   "outputs": [],
   "source": [
    "tbPlayerData[\"tbAccuracy\"].hist(bins=[i/100 for i in range(0, 101, 10)])"
   ]
  },
  {
   "cell_type": "code",
   "execution_count": null,
   "metadata": {
    "hidden": true
   },
   "outputs": [],
   "source": [
    "eventPassDataLaLiga2019[eventPassDataLaLiga2019[\"pass.through_ball\"].notnull()][\"pass.outcome.id\"].unique()"
   ]
  },
  {
   "cell_type": "markdown",
   "metadata": {
    "hidden": true
   },
   "source": [
    "### Miscommunication Data"
   ]
  },
  {
   "cell_type": "code",
   "execution_count": null,
   "metadata": {
    "hidden": true,
    "scrolled": true
   },
   "outputs": [],
   "source": [
    "eventPassDataLaLiga2019[eventPassDataLaLiga2019[\"pass.miscommunication\"].notnull()]"
   ]
  },
  {
   "cell_type": "code",
   "execution_count": null,
   "metadata": {
    "hidden": true
   },
   "outputs": [],
   "source": [
    "len(eventPassDataLaLiga2019[eventPassDataLaLiga2019[\"pass.miscommunication\"].notnull()])/len(eventPassDataLaLiga2019)*100"
   ]
  },
  {
   "cell_type": "markdown",
   "metadata": {
    "hidden": true
   },
   "source": [
    "NOTE: We will reject the **Miscommunication** parameter since there are only not enough data here (there are only 0.06% passes where a miscommunication has happened)"
   ]
  },
  {
   "cell_type": "markdown",
   "metadata": {
    "hidden": true
   },
   "source": [
    "### Passing Ability Rating"
   ]
  },
  {
   "cell_type": "code",
   "execution_count": null,
   "metadata": {
    "hidden": true
   },
   "outputs": [],
   "source": [
    "\"\"\" Get Passing Ability Data \"\"\"\n",
    "# Join Total Passes df with Ground Passes df:\n",
    "passingAbilityData = pd.merge(totPassData, gpPlayerData,\n",
    "                           how=\"outer\", left_index=True, right_index=True)\n",
    "\n",
    "# Join Final Pass Ability df with Low Passes df:\n",
    "passingAbilityData = pd.merge(passingAbilityData, lpPlayerData,\n",
    "                           how=\"outer\", left_index=True, right_index=True)\n",
    "\n",
    "# Join Final Pass Ability df with High Passes df:\n",
    "passingAbilityData = pd.merge(passingAbilityData, hpPlayerData,\n",
    "                           how=\"outer\", left_index=True, right_index=True)\n",
    "\n",
    "# Join Final Pass Ability df with Under Pressure Passes df:\n",
    "passingAbilityData = pd.merge(passingAbilityData, upPlayerData,\n",
    "                           how=\"outer\", left_index=True, right_index=True)\n",
    "\n",
    "# Join Final Pass Ability df with Through Ball Passes df:\n",
    "passingAbilityData = pd.merge(passingAbilityData, tbPlayerData,\n",
    "                           how=\"outer\", left_index=True, right_index=True)"
   ]
  },
  {
   "cell_type": "markdown",
   "metadata": {
    "hidden": true
   },
   "source": [
    "Using Standardized weights:\n",
    "\n",
    "paRating = (passAccuracy * 0.08) + (gpAccuracy * 0.02) + (lpAccuracy * 0.1)  + (hpAccuracy * 0.15) + (upAccuracy * 0.25) + (tbAccuracy * 0.4)"
   ]
  },
  {
   "cell_type": "code",
   "execution_count": null,
   "metadata": {
    "hidden": true
   },
   "outputs": [],
   "source": [
    "passingAbilityData[\"paRating\"] =\\\n",
    "    (passingAbilityData[\"passAccuracy\"]*0.08)\\\n",
    "        .add(passingAbilityData[\"gpAccuracy\"]*0.02)\\\n",
    "        .add(passingAbilityData[\"lpAccuracy\"]*0.1)\\\n",
    "        .add(passingAbilityData[\"hpAccuracy\"]*0.15)\\\n",
    "        .add(passingAbilityData[\"upAccuracy\"]*0.25)\\\n",
    "        .add(passingAbilityData[\"tbAccuracy\"]*0.4)"
   ]
  },
  {
   "cell_type": "code",
   "execution_count": null,
   "metadata": {
    "hidden": true,
    "scrolled": false
   },
   "outputs": [],
   "source": [
    "passingAbilityData.loc[passingAbilityData[\"paRating\"].nlargest(10).index]\\\n",
    "[[\"player.name\", \"team.name\", \"paRating\"]]"
   ]
  },
  {
   "cell_type": "code",
   "execution_count": null,
   "metadata": {
    "hidden": true,
    "scrolled": true
   },
   "outputs": [],
   "source": [
    "passingAbilityData[\"paRating\"] =\\\n",
    "    scaler.fit_transform(np.array(passingAbilityData[\"paRating\"]).reshape(-1, 1))"
   ]
  },
  {
   "cell_type": "code",
   "execution_count": null,
   "metadata": {
    "hidden": true
   },
   "outputs": [],
   "source": [
    "passingAbilityData.columns"
   ]
  },
  {
   "cell_type": "code",
   "execution_count": null,
   "metadata": {
    "hidden": true
   },
   "outputs": [],
   "source": [
    "passingAbilityData[['passAccuracy', 'gpAccuracy',\n",
    "                    'lpAccuracy', 'hpAccuracy',\n",
    "                    'upAccuracy', 'tbAccuracy']] =\\\n",
    "    passingAbilityData[['passAccuracy', 'gpAccuracy',\n",
    "                    'lpAccuracy', 'hpAccuracy',\n",
    "                    'upAccuracy', 'tbAccuracy']].fillna(0)"
   ]
  },
  {
   "cell_type": "code",
   "execution_count": null,
   "metadata": {
    "hidden": true
   },
   "outputs": [],
   "source": [
    "passingAbilityData[\"paRating\"] =\\\n",
    "    (passingAbilityData[\"passAccuracy\"]*0.05)\\\n",
    "        .add(passingAbilityData[\"gpAccuracy\"]*0.05)\\\n",
    "        .add(passingAbilityData[\"lpAccuracy\"]*0.1)\\\n",
    "        .add(passingAbilityData[\"hpAccuracy\"]*0.15)\\\n",
    "        .add(passingAbilityData[\"upAccuracy\"]*0.25)\\\n",
    "        .add(passingAbilityData[\"tbAccuracy\"]*0.4)"
   ]
  },
  {
   "cell_type": "code",
   "execution_count": null,
   "metadata": {
    "hidden": true
   },
   "outputs": [],
   "source": [
    "passingAbilityData[\"paRating\"] =\\\n",
    "    scaler.fit_transform(np.array(passingAbilityData[\"paRating\"]).reshape(-1, 1))"
   ]
  },
  {
   "cell_type": "code",
   "execution_count": null,
   "metadata": {
    "hidden": true
   },
   "outputs": [],
   "source": [
    "passingAbilityData.loc[passingAbilityData[\"paRating\"].nlargest(10).index]\\\n",
    "[[\"player.name\", \"team.name\", \"paRating\"]]"
   ]
  },
  {
   "cell_type": "markdown",
   "metadata": {
    "heading_collapsed": true
   },
   "source": [
    "# Playmaker Ratings"
   ]
  },
  {
   "cell_type": "code",
   "execution_count": null,
   "metadata": {
    "hidden": true
   },
   "outputs": [],
   "source": [
    "playerWisedf.info()"
   ]
  },
  {
   "cell_type": "code",
   "execution_count": null,
   "metadata": {
    "hidden": true
   },
   "outputs": [],
   "source": [
    "playerWisedf.columns"
   ]
  },
  {
   "cell_type": "code",
   "execution_count": null,
   "metadata": {
    "hidden": true
   },
   "outputs": [],
   "source": [
    "\"\"\" Get Playmaker Data \"\"\"\n",
    "\n",
    "# Join Vision  df with Ball Control df:\n",
    "playmakerDataFinal = pd.merge(playerWisedf[['player.name', 'team.name',\n",
    "                                            'minsPlayed', 'visionRating']],\n",
    "                              ballControlData[\"bcRating\"],\n",
    "                              how=\"outer\",\n",
    "                              left_index=True, right_index=True)\n",
    "\n",
    "# Join Final Playmaker df with Creativity df:\n",
    "playmakerDataFinal = pd.merge(playmakerDataFinal,\n",
    "                              creativityData[\"creativityRating\"],\n",
    "                              how=\"outer\",\n",
    "                              left_index=True, right_index=True)\n",
    "\n",
    "# Join Final Playmaker df with Passing Ability df:\n",
    "playmakerDataFinal = pd.merge(playmakerDataFinal,\n",
    "                              passingAbilityData['paRating'],\n",
    "                              how=\"outer\",\n",
    "                              left_index=True, right_index=True)"
   ]
  },
  {
   "cell_type": "code",
   "execution_count": null,
   "metadata": {
    "hidden": true
   },
   "outputs": [],
   "source": [
    "playmakerDataFinal.head()"
   ]
  },
  {
   "cell_type": "code",
   "execution_count": null,
   "metadata": {
    "hidden": true
   },
   "outputs": [],
   "source": [
    "playmakerDataFinal.columns"
   ]
  },
  {
   "cell_type": "code",
   "execution_count": null,
   "metadata": {
    "hidden": true
   },
   "outputs": [],
   "source": [
    "playmakerDataFinal[['visionRating', 'bcRating',\n",
    "                    'creativityRating', 'paRating']].mean(axis=1)"
   ]
  },
  {
   "cell_type": "code",
   "execution_count": null,
   "metadata": {
    "hidden": true
   },
   "outputs": [],
   "source": [
    "playmakerDataFinal[\"playmakerRating\"] =\\\n",
    "    playmakerDataFinal[['visionRating', 'bcRating',\n",
    "                        'creativityRating', 'paRating']].mean(axis=1)"
   ]
  },
  {
   "cell_type": "code",
   "execution_count": null,
   "metadata": {
    "hidden": true
   },
   "outputs": [],
   "source": [
    "playmakerDataFinal.loc[playmakerDataFinal[\"playmakerRating\"].nlargest(10).index]\\\n",
    "    [[\"player.name\", \"team.name\", \"playmakerRating\"]]"
   ]
  },
  {
   "cell_type": "code",
   "execution_count": null,
   "metadata": {
    "hidden": true
   },
   "outputs": [],
   "source": [
    "playmakerDataFinalFiltered = playmakerDataFinal[playmakerDataFinal[\"minsPlayed\"] > 45]"
   ]
  },
  {
   "cell_type": "code",
   "execution_count": null,
   "metadata": {
    "hidden": true
   },
   "outputs": [],
   "source": [
    "playmakerDataFinalFiltered.loc[\n",
    "    playmakerDataFinalFiltered[\"playmakerRating\"].nlargest(10).index]\\\n",
    "        [[\"player.name\", \"team.name\", \"playmakerRating\"]]"
   ]
  },
  {
   "cell_type": "markdown",
   "metadata": {
    "hidden": true
   },
   "source": [
    "Using Standardized weights:\n",
    "\n",
    "playmakerRating = (visionRating * 0.4) + (bcRating * 0.2) + (creativityRating * 0.3)  + (paRating * 0.1)"
   ]
  },
  {
   "cell_type": "code",
   "execution_count": null,
   "metadata": {
    "hidden": true
   },
   "outputs": [],
   "source": [
    "playmakerDataFinal[\"playmakerRating\"] =\\\n",
    "    (playmakerDataFinal[\"visionRating\"]*0.4)\\\n",
    "        .add(playmakerDataFinal[\"bcRating\"]*0.2)\\\n",
    "        .add(playmakerDataFinal[\"creativityRating\"]*0.3)\\\n",
    "        .add(playmakerDataFinal[\"paRating\"]*0.1)"
   ]
  },
  {
   "cell_type": "code",
   "execution_count": null,
   "metadata": {
    "hidden": true
   },
   "outputs": [],
   "source": [
    "playmakerDataFinalFiltered = playmakerDataFinal[playmakerDataFinal[\"minsPlayed\"] > 45]"
   ]
  },
  {
   "cell_type": "code",
   "execution_count": null,
   "metadata": {
    "hidden": true,
    "scrolled": true
   },
   "outputs": [],
   "source": [
    "playmakerDataFinalFiltered.loc[\n",
    "    playmakerDataFinalFiltered[\"playmakerRating\"].nlargest(10).index]\\\n",
    "        [[\"player.name\", \"team.name\", \"playmakerRating\"]]"
   ]
  },
  {
   "cell_type": "code",
   "execution_count": null,
   "metadata": {
    "hidden": true
   },
   "outputs": [],
   "source": []
  }
 ],
 "metadata": {
  "kernelspec": {
   "display_name": "Python 3",
   "language": "python",
   "name": "python3"
  },
  "language_info": {
   "codemirror_mode": {
    "name": "ipython",
    "version": 3
   },
   "file_extension": ".py",
   "mimetype": "text/x-python",
   "name": "python",
   "nbconvert_exporter": "python",
   "pygments_lexer": "ipython3",
   "version": "3.6.5"
  },
  "toc": {
   "base_numbering": 1,
   "nav_menu": {},
   "number_sections": true,
   "sideBar": true,
   "skip_h1_title": false,
   "title_cell": "Table of Contents",
   "title_sidebar": "Contents",
   "toc_cell": false,
   "toc_position": {
    "height": "calc(100% - 180px)",
    "left": "10px",
    "top": "150px",
    "width": "269.6px"
   },
   "toc_section_display": true,
   "toc_window_display": true
  }
 },
 "nbformat": 4,
 "nbformat_minor": 2
}
